{
  "cells": [
    {
      "cell_type": "code",
      "execution_count": null,
      "metadata": {
        "colab": {
          "base_uri": "https://localhost:8080/"
        },
        "id": "Ys4yWM0kZ1U2",
        "outputId": "69130b21-5bb3-43bb-b42c-aa3c5071b902"
      },
      "outputs": [
        {
          "output_type": "stream",
          "name": "stdout",
          "text": [
            "Collecting pyspark\n",
            "  Downloading pyspark-3.5.0.tar.gz (316.9 MB)\n",
            "\u001b[2K     \u001b[90m━━━━━━━━━━━━━━━━━━━━━━━━━━━━━━━━━━━━━━━━\u001b[0m \u001b[32m316.9/316.9 MB\u001b[0m \u001b[31m4.9 MB/s\u001b[0m eta \u001b[36m0:00:00\u001b[0m\n",
            "\u001b[?25h  Preparing metadata (setup.py) ... \u001b[?25l\u001b[?25hdone\n",
            "Requirement already satisfied: py4j==0.10.9.7 in /usr/local/lib/python3.10/dist-packages (from pyspark) (0.10.9.7)\n",
            "Building wheels for collected packages: pyspark\n",
            "  Building wheel for pyspark (setup.py) ... \u001b[?25l\u001b[?25hdone\n",
            "  Created wheel for pyspark: filename=pyspark-3.5.0-py2.py3-none-any.whl size=317425344 sha256=1754f987870b580dff5e319d41d5d222bf9630c0681bbe05960dd1005f28d4db\n",
            "  Stored in directory: /root/.cache/pip/wheels/41/4e/10/c2cf2467f71c678cfc8a6b9ac9241e5e44a01940da8fbb17fc\n",
            "Successfully built pyspark\n",
            "Installing collected packages: pyspark\n",
            "Successfully installed pyspark-3.5.0\n"
          ]
        }
      ],
      "source": [
        "pip install pyspark"
      ]
    },
    {
      "cell_type": "code",
      "execution_count": null,
      "metadata": {
        "id": "Dvt4U9v9aHR3"
      },
      "outputs": [],
      "source": [
        "from pyspark.sql import SparkSession\n",
        "spark = SparkSession.builder.appName(\"Loan approval\").getOrCreate()"
      ]
    },
    {
      "cell_type": "code",
      "execution_count": null,
      "metadata": {
        "id": "1YzvizRvaYQp"
      },
      "outputs": [],
      "source": [
        "sc = spark.sparkContext"
      ]
    },
    {
      "cell_type": "code",
      "execution_count": null,
      "metadata": {
        "id": "C2XUQev2ae-7"
      },
      "outputs": [],
      "source": [
        "data = spark.read.option('header',True).csv('/content/loan_approval_dataset.csv')"
      ]
    },
    {
      "cell_type": "code",
      "execution_count": null,
      "metadata": {
        "id": "pkNTM96Ga4Ck",
        "colab": {
          "base_uri": "https://localhost:8080/"
        },
        "outputId": "67402f95-f974-4fba-e3bb-65a5bbe7a37c"
      },
      "outputs": [
        {
          "output_type": "stream",
          "name": "stdout",
          "text": [
            "+-------+-----------------+-------------+--------------+-------------+------------+----------+------------+-------------------------+------------------------+--------------------+-----------------+------------+\n",
            "|loan_id| no_of_dependents|    education| self_employed| income_annum| loan_amount| loan_term| cibil_score| residential_assets_value| commercial_assets_value| luxury_assets_value| bank_asset_value| loan_status|\n",
            "+-------+-----------------+-------------+--------------+-------------+------------+----------+------------+-------------------------+------------------------+--------------------+-----------------+------------+\n",
            "|      1|                2|     Graduate|            No|      9600000|    29900000|        12|         778|                  2400000|                17600000|            22700000|          8000000|    Approved|\n",
            "|      2|                0| Not Graduate|           Yes|      4100000|    12200000|         8|         417|                  2700000|                 2200000|             8800000|          3300000|    Rejected|\n",
            "|      3|                3|     Graduate|            No|      9100000|    29700000|        20|         506|                  7100000|                 4500000|            33300000|         12800000|    Rejected|\n",
            "|      4|                3|     Graduate|            No|      8200000|    30700000|         8|         467|                 18200000|                 3300000|            23300000|          7900000|    Rejected|\n",
            "|      5|                5| Not Graduate|           Yes|      9800000|    24200000|        20|         382|                 12400000|                 8200000|            29400000|          5000000|    Rejected|\n",
            "|      6|                0|     Graduate|           Yes|      4800000|    13500000|        10|         319|                  6800000|                 8300000|            13700000|          5100000|    Rejected|\n",
            "|      7|                5|     Graduate|            No|      8700000|    33000000|         4|         678|                 22500000|                14800000|            29200000|          4300000|    Approved|\n",
            "|      8|                2|     Graduate|           Yes|      5700000|    15000000|        20|         382|                 13200000|                 5700000|            11800000|          6000000|    Rejected|\n",
            "|      9|                0|     Graduate|           Yes|       800000|     2200000|        20|         782|                  1300000|                  800000|             2800000|           600000|    Approved|\n",
            "|     10|                5| Not Graduate|            No|      1100000|     4300000|        10|         388|                  3200000|                 1400000|             3300000|          1600000|    Rejected|\n",
            "|     11|                4|     Graduate|           Yes|      2900000|    11200000|         2|         547|                  8100000|                 4700000|             9500000|          3100000|    Approved|\n",
            "|     12|                2| Not Graduate|           Yes|      6700000|    22700000|        18|         538|                 15300000|                 5800000|            20400000|          6400000|    Rejected|\n",
            "|     13|                3| Not Graduate|           Yes|      5000000|    11600000|        16|         311|                  6400000|                 9600000|            14600000|          4300000|    Rejected|\n",
            "|     14|                2|     Graduate|           Yes|      9100000|    31500000|        14|         679|                 10800000|                16600000|            20900000|          5000000|    Approved|\n",
            "|     15|                1| Not Graduate|            No|      1900000|     7400000|         6|         469|                  1900000|                 1200000|             5900000|          1900000|    Rejected|\n",
            "|     16|                5| Not Graduate|            No|      4700000|    10700000|        10|         794|                  5700000|                 3900000|            16400000|          4400000|    Approved|\n",
            "|     17|                2|     Graduate|           Yes|       500000|     1600000|         4|         663|                  1300000|                  100000|             1300000|           700000|    Approved|\n",
            "|     18|                4| Not Graduate|           Yes|      2900000|     9400000|        14|         780|                  2900000|                 2800000|             6700000|          4300000|    Approved|\n",
            "|     19|                2|     Graduate|            No|      2700000|    10300000|        10|         736|                  1000000|                       0|             6200000|          3300000|    Approved|\n",
            "|     20|                5|     Graduate|            No|      6300000|    14600000|        12|         652|                 10300000|                 3500000|            23500000|          5900000|    Approved|\n",
            "+-------+-----------------+-------------+--------------+-------------+------------+----------+------------+-------------------------+------------------------+--------------------+-----------------+------------+\n",
            "only showing top 20 rows\n",
            "\n"
          ]
        }
      ],
      "source": [
        "data.show()"
      ]
    },
    {
      "cell_type": "code",
      "execution_count": null,
      "metadata": {
        "id": "igbInjejbEbH",
        "colab": {
          "base_uri": "https://localhost:8080/"
        },
        "outputId": "93f9d52e-48e4-4028-8be6-a67d1937bb84"
      },
      "outputs": [
        {
          "output_type": "stream",
          "name": "stdout",
          "text": [
            "root\n",
            " |-- loan_id: string (nullable = true)\n",
            " |--  no_of_dependents: string (nullable = true)\n",
            " |--  education: string (nullable = true)\n",
            " |--  self_employed: string (nullable = true)\n",
            " |--  income_annum: string (nullable = true)\n",
            " |--  loan_amount: string (nullable = true)\n",
            " |--  loan_term: string (nullable = true)\n",
            " |--  cibil_score: string (nullable = true)\n",
            " |--  residential_assets_value: string (nullable = true)\n",
            " |--  commercial_assets_value: string (nullable = true)\n",
            " |--  luxury_assets_value: string (nullable = true)\n",
            " |--  bank_asset_value: string (nullable = true)\n",
            " |--  loan_status: string (nullable = true)\n",
            "\n"
          ]
        }
      ],
      "source": [
        "data.printSchema()"
      ]
    },
    {
      "cell_type": "code",
      "execution_count": null,
      "metadata": {
        "id": "hXW_NkBwbHPu",
        "colab": {
          "base_uri": "https://localhost:8080/"
        },
        "outputId": "5eb014e1-3736-4729-db1d-f417f73398d0"
      },
      "outputs": [
        {
          "output_type": "execute_result",
          "data": {
            "text/plain": [
              "4269"
            ]
          },
          "metadata": {},
          "execution_count": 7
        }
      ],
      "source": [
        "data.count()"
      ]
    },
    {
      "cell_type": "code",
      "execution_count": null,
      "metadata": {
        "id": "W4tCStnPbVuB"
      },
      "outputs": [],
      "source": [
        "import pyspark.sql.functions as f\n",
        "from pyspark.sql.types import IntegerType"
      ]
    },
    {
      "cell_type": "code",
      "execution_count": null,
      "metadata": {
        "id": "HRQ-vxNjcDUZ"
      },
      "outputs": [],
      "source": [
        "from pyspark.ml import Pipeline\n",
        "from pyspark.ml.feature import StringIndexer, VectorAssembler"
      ]
    },
    {
      "cell_type": "code",
      "execution_count": null,
      "metadata": {
        "id": "7hxCAQzMcHAv"
      },
      "outputs": [],
      "source": [
        "#CATEGORICAL COLUMNS : EDUCATION, SELF EMPLOYED AND APPROVAL:::"
      ]
    },
    {
      "cell_type": "code",
      "execution_count": null,
      "metadata": {
        "id": "QobmHD3zcw9K"
      },
      "outputs": [],
      "source": [
        "indexer = StringIndexer(inputCol=' self_employed', outputCol='self_employed_numeric').fit(data)\n",
        "data = indexer.transform(data)"
      ]
    },
    {
      "cell_type": "code",
      "execution_count": null,
      "metadata": {
        "id": "CwATj5cadIPf",
        "colab": {
          "base_uri": "https://localhost:8080/"
        },
        "outputId": "392631ce-f525-444d-96db-a87f1e3cbc11"
      },
      "outputs": [
        {
          "output_type": "stream",
          "name": "stdout",
          "text": [
            "+-------+-----------------+-------------+--------------+-------------+------------+----------+------------+-------------------------+------------------------+--------------------+-----------------+------------+---------------------+\n",
            "|loan_id| no_of_dependents|    education| self_employed| income_annum| loan_amount| loan_term| cibil_score| residential_assets_value| commercial_assets_value| luxury_assets_value| bank_asset_value| loan_status|self_employed_numeric|\n",
            "+-------+-----------------+-------------+--------------+-------------+------------+----------+------------+-------------------------+------------------------+--------------------+-----------------+------------+---------------------+\n",
            "|      1|                2|     Graduate|            No|      9600000|    29900000|        12|         778|                  2400000|                17600000|            22700000|          8000000|    Approved|                  1.0|\n",
            "|      2|                0| Not Graduate|           Yes|      4100000|    12200000|         8|         417|                  2700000|                 2200000|             8800000|          3300000|    Rejected|                  0.0|\n",
            "|      3|                3|     Graduate|            No|      9100000|    29700000|        20|         506|                  7100000|                 4500000|            33300000|         12800000|    Rejected|                  1.0|\n",
            "|      4|                3|     Graduate|            No|      8200000|    30700000|         8|         467|                 18200000|                 3300000|            23300000|          7900000|    Rejected|                  1.0|\n",
            "|      5|                5| Not Graduate|           Yes|      9800000|    24200000|        20|         382|                 12400000|                 8200000|            29400000|          5000000|    Rejected|                  0.0|\n",
            "|      6|                0|     Graduate|           Yes|      4800000|    13500000|        10|         319|                  6800000|                 8300000|            13700000|          5100000|    Rejected|                  0.0|\n",
            "|      7|                5|     Graduate|            No|      8700000|    33000000|         4|         678|                 22500000|                14800000|            29200000|          4300000|    Approved|                  1.0|\n",
            "|      8|                2|     Graduate|           Yes|      5700000|    15000000|        20|         382|                 13200000|                 5700000|            11800000|          6000000|    Rejected|                  0.0|\n",
            "|      9|                0|     Graduate|           Yes|       800000|     2200000|        20|         782|                  1300000|                  800000|             2800000|           600000|    Approved|                  0.0|\n",
            "|     10|                5| Not Graduate|            No|      1100000|     4300000|        10|         388|                  3200000|                 1400000|             3300000|          1600000|    Rejected|                  1.0|\n",
            "|     11|                4|     Graduate|           Yes|      2900000|    11200000|         2|         547|                  8100000|                 4700000|             9500000|          3100000|    Approved|                  0.0|\n",
            "|     12|                2| Not Graduate|           Yes|      6700000|    22700000|        18|         538|                 15300000|                 5800000|            20400000|          6400000|    Rejected|                  0.0|\n",
            "|     13|                3| Not Graduate|           Yes|      5000000|    11600000|        16|         311|                  6400000|                 9600000|            14600000|          4300000|    Rejected|                  0.0|\n",
            "|     14|                2|     Graduate|           Yes|      9100000|    31500000|        14|         679|                 10800000|                16600000|            20900000|          5000000|    Approved|                  0.0|\n",
            "|     15|                1| Not Graduate|            No|      1900000|     7400000|         6|         469|                  1900000|                 1200000|             5900000|          1900000|    Rejected|                  1.0|\n",
            "|     16|                5| Not Graduate|            No|      4700000|    10700000|        10|         794|                  5700000|                 3900000|            16400000|          4400000|    Approved|                  1.0|\n",
            "|     17|                2|     Graduate|           Yes|       500000|     1600000|         4|         663|                  1300000|                  100000|             1300000|           700000|    Approved|                  0.0|\n",
            "|     18|                4| Not Graduate|           Yes|      2900000|     9400000|        14|         780|                  2900000|                 2800000|             6700000|          4300000|    Approved|                  0.0|\n",
            "|     19|                2|     Graduate|            No|      2700000|    10300000|        10|         736|                  1000000|                       0|             6200000|          3300000|    Approved|                  1.0|\n",
            "|     20|                5|     Graduate|            No|      6300000|    14600000|        12|         652|                 10300000|                 3500000|            23500000|          5900000|    Approved|                  1.0|\n",
            "+-------+-----------------+-------------+--------------+-------------+------------+----------+------------+-------------------------+------------------------+--------------------+-----------------+------------+---------------------+\n",
            "only showing top 20 rows\n",
            "\n"
          ]
        }
      ],
      "source": [
        "data.show()"
      ]
    },
    {
      "cell_type": "code",
      "execution_count": null,
      "metadata": {
        "id": "VSJzx6V9m6S4",
        "colab": {
          "base_uri": "https://localhost:8080/"
        },
        "outputId": "0d698fe9-afb0-4df1-96ad-03cbf0de1304"
      },
      "outputs": [
        {
          "output_type": "stream",
          "name": "stdout",
          "text": [
            "+-------+-----------------+-------------+-------------+------------+----------+------------+-------------------------+------------------------+--------------------+-----------------+------------+---------------------+\n",
            "|loan_id| no_of_dependents|    education| income_annum| loan_amount| loan_term| cibil_score| residential_assets_value| commercial_assets_value| luxury_assets_value| bank_asset_value| loan_status|self_employed_numeric|\n",
            "+-------+-----------------+-------------+-------------+------------+----------+------------+-------------------------+------------------------+--------------------+-----------------+------------+---------------------+\n",
            "|      1|                2|     Graduate|      9600000|    29900000|        12|         778|                  2400000|                17600000|            22700000|          8000000|    Approved|                  1.0|\n",
            "|      2|                0| Not Graduate|      4100000|    12200000|         8|         417|                  2700000|                 2200000|             8800000|          3300000|    Rejected|                  0.0|\n",
            "|      3|                3|     Graduate|      9100000|    29700000|        20|         506|                  7100000|                 4500000|            33300000|         12800000|    Rejected|                  1.0|\n",
            "|      4|                3|     Graduate|      8200000|    30700000|         8|         467|                 18200000|                 3300000|            23300000|          7900000|    Rejected|                  1.0|\n",
            "|      5|                5| Not Graduate|      9800000|    24200000|        20|         382|                 12400000|                 8200000|            29400000|          5000000|    Rejected|                  0.0|\n",
            "|      6|                0|     Graduate|      4800000|    13500000|        10|         319|                  6800000|                 8300000|            13700000|          5100000|    Rejected|                  0.0|\n",
            "|      7|                5|     Graduate|      8700000|    33000000|         4|         678|                 22500000|                14800000|            29200000|          4300000|    Approved|                  1.0|\n",
            "|      8|                2|     Graduate|      5700000|    15000000|        20|         382|                 13200000|                 5700000|            11800000|          6000000|    Rejected|                  0.0|\n",
            "|      9|                0|     Graduate|       800000|     2200000|        20|         782|                  1300000|                  800000|             2800000|           600000|    Approved|                  0.0|\n",
            "|     10|                5| Not Graduate|      1100000|     4300000|        10|         388|                  3200000|                 1400000|             3300000|          1600000|    Rejected|                  1.0|\n",
            "|     11|                4|     Graduate|      2900000|    11200000|         2|         547|                  8100000|                 4700000|             9500000|          3100000|    Approved|                  0.0|\n",
            "|     12|                2| Not Graduate|      6700000|    22700000|        18|         538|                 15300000|                 5800000|            20400000|          6400000|    Rejected|                  0.0|\n",
            "|     13|                3| Not Graduate|      5000000|    11600000|        16|         311|                  6400000|                 9600000|            14600000|          4300000|    Rejected|                  0.0|\n",
            "|     14|                2|     Graduate|      9100000|    31500000|        14|         679|                 10800000|                16600000|            20900000|          5000000|    Approved|                  0.0|\n",
            "|     15|                1| Not Graduate|      1900000|     7400000|         6|         469|                  1900000|                 1200000|             5900000|          1900000|    Rejected|                  1.0|\n",
            "|     16|                5| Not Graduate|      4700000|    10700000|        10|         794|                  5700000|                 3900000|            16400000|          4400000|    Approved|                  1.0|\n",
            "|     17|                2|     Graduate|       500000|     1600000|         4|         663|                  1300000|                  100000|             1300000|           700000|    Approved|                  0.0|\n",
            "|     18|                4| Not Graduate|      2900000|     9400000|        14|         780|                  2900000|                 2800000|             6700000|          4300000|    Approved|                  0.0|\n",
            "|     19|                2|     Graduate|      2700000|    10300000|        10|         736|                  1000000|                       0|             6200000|          3300000|    Approved|                  1.0|\n",
            "|     20|                5|     Graduate|      6300000|    14600000|        12|         652|                 10300000|                 3500000|            23500000|          5900000|    Approved|                  1.0|\n",
            "+-------+-----------------+-------------+-------------+------------+----------+------------+-------------------------+------------------------+--------------------+-----------------+------------+---------------------+\n",
            "only showing top 20 rows\n",
            "\n"
          ]
        }
      ],
      "source": [
        "data  = data.drop(' self_employed')\n",
        "data.show()"
      ]
    },
    {
      "cell_type": "code",
      "execution_count": null,
      "metadata": {
        "id": "pS3Tu9rpnwmK"
      },
      "outputs": [],
      "source": [
        "indexer = StringIndexer(inputCol = ' education',outputCol = 'education_numeric').fit(data)\n",
        "data = indexer.transform(data)"
      ]
    },
    {
      "cell_type": "code",
      "execution_count": null,
      "metadata": {
        "id": "sbUshZ-qoubi",
        "colab": {
          "base_uri": "https://localhost:8080/"
        },
        "outputId": "f4986d7b-2c7b-495e-d414-5f017c5ceefa"
      },
      "outputs": [
        {
          "output_type": "stream",
          "name": "stdout",
          "text": [
            "+-------+-----------------+-------------+-------------+------------+----------+------------+-------------------------+------------------------+--------------------+-----------------+------------+---------------------+-----------------+\n",
            "|loan_id| no_of_dependents|    education| income_annum| loan_amount| loan_term| cibil_score| residential_assets_value| commercial_assets_value| luxury_assets_value| bank_asset_value| loan_status|self_employed_numeric|education_numeric|\n",
            "+-------+-----------------+-------------+-------------+------------+----------+------------+-------------------------+------------------------+--------------------+-----------------+------------+---------------------+-----------------+\n",
            "|      1|                2|     Graduate|      9600000|    29900000|        12|         778|                  2400000|                17600000|            22700000|          8000000|    Approved|                  1.0|              0.0|\n",
            "|      2|                0| Not Graduate|      4100000|    12200000|         8|         417|                  2700000|                 2200000|             8800000|          3300000|    Rejected|                  0.0|              1.0|\n",
            "|      3|                3|     Graduate|      9100000|    29700000|        20|         506|                  7100000|                 4500000|            33300000|         12800000|    Rejected|                  1.0|              0.0|\n",
            "|      4|                3|     Graduate|      8200000|    30700000|         8|         467|                 18200000|                 3300000|            23300000|          7900000|    Rejected|                  1.0|              0.0|\n",
            "|      5|                5| Not Graduate|      9800000|    24200000|        20|         382|                 12400000|                 8200000|            29400000|          5000000|    Rejected|                  0.0|              1.0|\n",
            "|      6|                0|     Graduate|      4800000|    13500000|        10|         319|                  6800000|                 8300000|            13700000|          5100000|    Rejected|                  0.0|              0.0|\n",
            "|      7|                5|     Graduate|      8700000|    33000000|         4|         678|                 22500000|                14800000|            29200000|          4300000|    Approved|                  1.0|              0.0|\n",
            "|      8|                2|     Graduate|      5700000|    15000000|        20|         382|                 13200000|                 5700000|            11800000|          6000000|    Rejected|                  0.0|              0.0|\n",
            "|      9|                0|     Graduate|       800000|     2200000|        20|         782|                  1300000|                  800000|             2800000|           600000|    Approved|                  0.0|              0.0|\n",
            "|     10|                5| Not Graduate|      1100000|     4300000|        10|         388|                  3200000|                 1400000|             3300000|          1600000|    Rejected|                  1.0|              1.0|\n",
            "|     11|                4|     Graduate|      2900000|    11200000|         2|         547|                  8100000|                 4700000|             9500000|          3100000|    Approved|                  0.0|              0.0|\n",
            "|     12|                2| Not Graduate|      6700000|    22700000|        18|         538|                 15300000|                 5800000|            20400000|          6400000|    Rejected|                  0.0|              1.0|\n",
            "|     13|                3| Not Graduate|      5000000|    11600000|        16|         311|                  6400000|                 9600000|            14600000|          4300000|    Rejected|                  0.0|              1.0|\n",
            "|     14|                2|     Graduate|      9100000|    31500000|        14|         679|                 10800000|                16600000|            20900000|          5000000|    Approved|                  0.0|              0.0|\n",
            "|     15|                1| Not Graduate|      1900000|     7400000|         6|         469|                  1900000|                 1200000|             5900000|          1900000|    Rejected|                  1.0|              1.0|\n",
            "|     16|                5| Not Graduate|      4700000|    10700000|        10|         794|                  5700000|                 3900000|            16400000|          4400000|    Approved|                  1.0|              1.0|\n",
            "|     17|                2|     Graduate|       500000|     1600000|         4|         663|                  1300000|                  100000|             1300000|           700000|    Approved|                  0.0|              0.0|\n",
            "|     18|                4| Not Graduate|      2900000|     9400000|        14|         780|                  2900000|                 2800000|             6700000|          4300000|    Approved|                  0.0|              1.0|\n",
            "|     19|                2|     Graduate|      2700000|    10300000|        10|         736|                  1000000|                       0|             6200000|          3300000|    Approved|                  1.0|              0.0|\n",
            "|     20|                5|     Graduate|      6300000|    14600000|        12|         652|                 10300000|                 3500000|            23500000|          5900000|    Approved|                  1.0|              0.0|\n",
            "+-------+-----------------+-------------+-------------+------------+----------+------------+-------------------------+------------------------+--------------------+-----------------+------------+---------------------+-----------------+\n",
            "only showing top 20 rows\n",
            "\n"
          ]
        }
      ],
      "source": [
        "data.show()"
      ]
    },
    {
      "cell_type": "code",
      "execution_count": null,
      "metadata": {
        "id": "ze47bQRho-w_",
        "colab": {
          "base_uri": "https://localhost:8080/"
        },
        "outputId": "0a5fb8c4-9cad-44e2-a25d-802d4e6a9d88"
      },
      "outputs": [
        {
          "output_type": "stream",
          "name": "stdout",
          "text": [
            "+-------+-----------------+-------------+------------+----------+------------+-------------------------+------------------------+--------------------+-----------------+------------+---------------------+-----------------+\n",
            "|loan_id| no_of_dependents| income_annum| loan_amount| loan_term| cibil_score| residential_assets_value| commercial_assets_value| luxury_assets_value| bank_asset_value| loan_status|self_employed_numeric|education_numeric|\n",
            "+-------+-----------------+-------------+------------+----------+------------+-------------------------+------------------------+--------------------+-----------------+------------+---------------------+-----------------+\n",
            "|      1|                2|      9600000|    29900000|        12|         778|                  2400000|                17600000|            22700000|          8000000|    Approved|                  1.0|              0.0|\n",
            "|      2|                0|      4100000|    12200000|         8|         417|                  2700000|                 2200000|             8800000|          3300000|    Rejected|                  0.0|              1.0|\n",
            "|      3|                3|      9100000|    29700000|        20|         506|                  7100000|                 4500000|            33300000|         12800000|    Rejected|                  1.0|              0.0|\n",
            "|      4|                3|      8200000|    30700000|         8|         467|                 18200000|                 3300000|            23300000|          7900000|    Rejected|                  1.0|              0.0|\n",
            "|      5|                5|      9800000|    24200000|        20|         382|                 12400000|                 8200000|            29400000|          5000000|    Rejected|                  0.0|              1.0|\n",
            "|      6|                0|      4800000|    13500000|        10|         319|                  6800000|                 8300000|            13700000|          5100000|    Rejected|                  0.0|              0.0|\n",
            "|      7|                5|      8700000|    33000000|         4|         678|                 22500000|                14800000|            29200000|          4300000|    Approved|                  1.0|              0.0|\n",
            "|      8|                2|      5700000|    15000000|        20|         382|                 13200000|                 5700000|            11800000|          6000000|    Rejected|                  0.0|              0.0|\n",
            "|      9|                0|       800000|     2200000|        20|         782|                  1300000|                  800000|             2800000|           600000|    Approved|                  0.0|              0.0|\n",
            "|     10|                5|      1100000|     4300000|        10|         388|                  3200000|                 1400000|             3300000|          1600000|    Rejected|                  1.0|              1.0|\n",
            "|     11|                4|      2900000|    11200000|         2|         547|                  8100000|                 4700000|             9500000|          3100000|    Approved|                  0.0|              0.0|\n",
            "|     12|                2|      6700000|    22700000|        18|         538|                 15300000|                 5800000|            20400000|          6400000|    Rejected|                  0.0|              1.0|\n",
            "|     13|                3|      5000000|    11600000|        16|         311|                  6400000|                 9600000|            14600000|          4300000|    Rejected|                  0.0|              1.0|\n",
            "|     14|                2|      9100000|    31500000|        14|         679|                 10800000|                16600000|            20900000|          5000000|    Approved|                  0.0|              0.0|\n",
            "|     15|                1|      1900000|     7400000|         6|         469|                  1900000|                 1200000|             5900000|          1900000|    Rejected|                  1.0|              1.0|\n",
            "|     16|                5|      4700000|    10700000|        10|         794|                  5700000|                 3900000|            16400000|          4400000|    Approved|                  1.0|              1.0|\n",
            "|     17|                2|       500000|     1600000|         4|         663|                  1300000|                  100000|             1300000|           700000|    Approved|                  0.0|              0.0|\n",
            "|     18|                4|      2900000|     9400000|        14|         780|                  2900000|                 2800000|             6700000|          4300000|    Approved|                  0.0|              1.0|\n",
            "|     19|                2|      2700000|    10300000|        10|         736|                  1000000|                       0|             6200000|          3300000|    Approved|                  1.0|              0.0|\n",
            "|     20|                5|      6300000|    14600000|        12|         652|                 10300000|                 3500000|            23500000|          5900000|    Approved|                  1.0|              0.0|\n",
            "+-------+-----------------+-------------+------------+----------+------------+-------------------------+------------------------+--------------------+-----------------+------------+---------------------+-----------------+\n",
            "only showing top 20 rows\n",
            "\n"
          ]
        }
      ],
      "source": [
        "data = data.drop(' education')\n",
        "data.show()"
      ]
    },
    {
      "cell_type": "code",
      "execution_count": null,
      "metadata": {
        "id": "5fnD3yE-pGD8"
      },
      "outputs": [],
      "source": [
        "\n",
        "indexer = StringIndexer(inputCol = ' loan_status',outputCol = 'loan_status').fit(data)\n",
        "data = indexer.transform(data)"
      ]
    },
    {
      "cell_type": "code",
      "execution_count": null,
      "metadata": {
        "id": "wPD-gkeppVsf",
        "colab": {
          "base_uri": "https://localhost:8080/"
        },
        "outputId": "2adfec67-9605-4083-916b-f55a18836638"
      },
      "outputs": [
        {
          "output_type": "stream",
          "name": "stdout",
          "text": [
            "+-------+-----------------+-------------+------------+----------+------------+-------------------------+------------------------+--------------------+-----------------+------------+---------------------+-----------------+-----------+\n",
            "|loan_id| no_of_dependents| income_annum| loan_amount| loan_term| cibil_score| residential_assets_value| commercial_assets_value| luxury_assets_value| bank_asset_value| loan_status|self_employed_numeric|education_numeric|loan_status|\n",
            "+-------+-----------------+-------------+------------+----------+------------+-------------------------+------------------------+--------------------+-----------------+------------+---------------------+-----------------+-----------+\n",
            "|      1|                2|      9600000|    29900000|        12|         778|                  2400000|                17600000|            22700000|          8000000|    Approved|                  1.0|              0.0|        0.0|\n",
            "|      2|                0|      4100000|    12200000|         8|         417|                  2700000|                 2200000|             8800000|          3300000|    Rejected|                  0.0|              1.0|        1.0|\n",
            "|      3|                3|      9100000|    29700000|        20|         506|                  7100000|                 4500000|            33300000|         12800000|    Rejected|                  1.0|              0.0|        1.0|\n",
            "|      4|                3|      8200000|    30700000|         8|         467|                 18200000|                 3300000|            23300000|          7900000|    Rejected|                  1.0|              0.0|        1.0|\n",
            "|      5|                5|      9800000|    24200000|        20|         382|                 12400000|                 8200000|            29400000|          5000000|    Rejected|                  0.0|              1.0|        1.0|\n",
            "|      6|                0|      4800000|    13500000|        10|         319|                  6800000|                 8300000|            13700000|          5100000|    Rejected|                  0.0|              0.0|        1.0|\n",
            "|      7|                5|      8700000|    33000000|         4|         678|                 22500000|                14800000|            29200000|          4300000|    Approved|                  1.0|              0.0|        0.0|\n",
            "|      8|                2|      5700000|    15000000|        20|         382|                 13200000|                 5700000|            11800000|          6000000|    Rejected|                  0.0|              0.0|        1.0|\n",
            "|      9|                0|       800000|     2200000|        20|         782|                  1300000|                  800000|             2800000|           600000|    Approved|                  0.0|              0.0|        0.0|\n",
            "|     10|                5|      1100000|     4300000|        10|         388|                  3200000|                 1400000|             3300000|          1600000|    Rejected|                  1.0|              1.0|        1.0|\n",
            "|     11|                4|      2900000|    11200000|         2|         547|                  8100000|                 4700000|             9500000|          3100000|    Approved|                  0.0|              0.0|        0.0|\n",
            "|     12|                2|      6700000|    22700000|        18|         538|                 15300000|                 5800000|            20400000|          6400000|    Rejected|                  0.0|              1.0|        1.0|\n",
            "|     13|                3|      5000000|    11600000|        16|         311|                  6400000|                 9600000|            14600000|          4300000|    Rejected|                  0.0|              1.0|        1.0|\n",
            "|     14|                2|      9100000|    31500000|        14|         679|                 10800000|                16600000|            20900000|          5000000|    Approved|                  0.0|              0.0|        0.0|\n",
            "|     15|                1|      1900000|     7400000|         6|         469|                  1900000|                 1200000|             5900000|          1900000|    Rejected|                  1.0|              1.0|        1.0|\n",
            "|     16|                5|      4700000|    10700000|        10|         794|                  5700000|                 3900000|            16400000|          4400000|    Approved|                  1.0|              1.0|        0.0|\n",
            "|     17|                2|       500000|     1600000|         4|         663|                  1300000|                  100000|             1300000|           700000|    Approved|                  0.0|              0.0|        0.0|\n",
            "|     18|                4|      2900000|     9400000|        14|         780|                  2900000|                 2800000|             6700000|          4300000|    Approved|                  0.0|              1.0|        0.0|\n",
            "|     19|                2|      2700000|    10300000|        10|         736|                  1000000|                       0|             6200000|          3300000|    Approved|                  1.0|              0.0|        0.0|\n",
            "|     20|                5|      6300000|    14600000|        12|         652|                 10300000|                 3500000|            23500000|          5900000|    Approved|                  1.0|              0.0|        0.0|\n",
            "+-------+-----------------+-------------+------------+----------+------------+-------------------------+------------------------+--------------------+-----------------+------------+---------------------+-----------------+-----------+\n",
            "only showing top 20 rows\n",
            "\n"
          ]
        }
      ],
      "source": [
        "data.show()"
      ]
    },
    {
      "cell_type": "code",
      "execution_count": null,
      "metadata": {
        "id": "Ioy3nDBdpWxP",
        "colab": {
          "base_uri": "https://localhost:8080/"
        },
        "outputId": "c42e4425-a45e-4b33-8f86-1760e193b44e"
      },
      "outputs": [
        {
          "output_type": "stream",
          "name": "stdout",
          "text": [
            "+-------+-----------------+-------------+------------+----------+------------+-------------------------+------------------------+--------------------+-----------------+---------------------+-----------------+-----------+\n",
            "|loan_id| no_of_dependents| income_annum| loan_amount| loan_term| cibil_score| residential_assets_value| commercial_assets_value| luxury_assets_value| bank_asset_value|self_employed_numeric|education_numeric|loan_status|\n",
            "+-------+-----------------+-------------+------------+----------+------------+-------------------------+------------------------+--------------------+-----------------+---------------------+-----------------+-----------+\n",
            "|      1|                2|      9600000|    29900000|        12|         778|                  2400000|                17600000|            22700000|          8000000|                  1.0|              0.0|        0.0|\n",
            "|      2|                0|      4100000|    12200000|         8|         417|                  2700000|                 2200000|             8800000|          3300000|                  0.0|              1.0|        1.0|\n",
            "|      3|                3|      9100000|    29700000|        20|         506|                  7100000|                 4500000|            33300000|         12800000|                  1.0|              0.0|        1.0|\n",
            "|      4|                3|      8200000|    30700000|         8|         467|                 18200000|                 3300000|            23300000|          7900000|                  1.0|              0.0|        1.0|\n",
            "|      5|                5|      9800000|    24200000|        20|         382|                 12400000|                 8200000|            29400000|          5000000|                  0.0|              1.0|        1.0|\n",
            "|      6|                0|      4800000|    13500000|        10|         319|                  6800000|                 8300000|            13700000|          5100000|                  0.0|              0.0|        1.0|\n",
            "|      7|                5|      8700000|    33000000|         4|         678|                 22500000|                14800000|            29200000|          4300000|                  1.0|              0.0|        0.0|\n",
            "|      8|                2|      5700000|    15000000|        20|         382|                 13200000|                 5700000|            11800000|          6000000|                  0.0|              0.0|        1.0|\n",
            "|      9|                0|       800000|     2200000|        20|         782|                  1300000|                  800000|             2800000|           600000|                  0.0|              0.0|        0.0|\n",
            "|     10|                5|      1100000|     4300000|        10|         388|                  3200000|                 1400000|             3300000|          1600000|                  1.0|              1.0|        1.0|\n",
            "|     11|                4|      2900000|    11200000|         2|         547|                  8100000|                 4700000|             9500000|          3100000|                  0.0|              0.0|        0.0|\n",
            "|     12|                2|      6700000|    22700000|        18|         538|                 15300000|                 5800000|            20400000|          6400000|                  0.0|              1.0|        1.0|\n",
            "|     13|                3|      5000000|    11600000|        16|         311|                  6400000|                 9600000|            14600000|          4300000|                  0.0|              1.0|        1.0|\n",
            "|     14|                2|      9100000|    31500000|        14|         679|                 10800000|                16600000|            20900000|          5000000|                  0.0|              0.0|        0.0|\n",
            "|     15|                1|      1900000|     7400000|         6|         469|                  1900000|                 1200000|             5900000|          1900000|                  1.0|              1.0|        1.0|\n",
            "|     16|                5|      4700000|    10700000|        10|         794|                  5700000|                 3900000|            16400000|          4400000|                  1.0|              1.0|        0.0|\n",
            "|     17|                2|       500000|     1600000|         4|         663|                  1300000|                  100000|             1300000|           700000|                  0.0|              0.0|        0.0|\n",
            "|     18|                4|      2900000|     9400000|        14|         780|                  2900000|                 2800000|             6700000|          4300000|                  0.0|              1.0|        0.0|\n",
            "|     19|                2|      2700000|    10300000|        10|         736|                  1000000|                       0|             6200000|          3300000|                  1.0|              0.0|        0.0|\n",
            "|     20|                5|      6300000|    14600000|        12|         652|                 10300000|                 3500000|            23500000|          5900000|                  1.0|              0.0|        0.0|\n",
            "+-------+-----------------+-------------+------------+----------+------------+-------------------------+------------------------+--------------------+-----------------+---------------------+-----------------+-----------+\n",
            "only showing top 20 rows\n",
            "\n"
          ]
        }
      ],
      "source": [
        "data = data.drop(' loan_status')\n",
        "data.show()"
      ]
    },
    {
      "cell_type": "code",
      "execution_count": null,
      "metadata": {
        "id": "NP8qA18Tpa4L",
        "colab": {
          "base_uri": "https://localhost:8080/"
        },
        "outputId": "67844767-c255-4a80-98e8-897a5df5b224"
      },
      "outputs": [
        {
          "output_type": "stream",
          "name": "stdout",
          "text": [
            "root\n",
            " |-- loan_id: string (nullable = true)\n",
            " |--  no_of_dependents: string (nullable = true)\n",
            " |--  income_annum: string (nullable = true)\n",
            " |--  loan_amount: string (nullable = true)\n",
            " |--  loan_term: string (nullable = true)\n",
            " |--  cibil_score: string (nullable = true)\n",
            " |--  residential_assets_value: string (nullable = true)\n",
            " |--  commercial_assets_value: string (nullable = true)\n",
            " |--  luxury_assets_value: string (nullable = true)\n",
            " |--  bank_asset_value: string (nullable = true)\n",
            " |-- self_employed_numeric: double (nullable = false)\n",
            " |-- education_numeric: double (nullable = false)\n",
            " |-- loan_status: double (nullable = false)\n",
            "\n"
          ]
        }
      ],
      "source": [
        "data.printSchema()"
      ]
    },
    {
      "cell_type": "code",
      "execution_count": null,
      "metadata": {
        "id": "ycxld9HQpfUY"
      },
      "outputs": [],
      "source": [
        "inputcolumns = [' no_of_dependents',' income_annum',' loan_amount',' loan_term',' cibil_score',' residential_assets_value',' commercial_assets_value',' luxury_assets_value',' bank_asset_value']"
      ]
    },
    {
      "cell_type": "code",
      "execution_count": null,
      "metadata": {
        "id": "hC-pi8zdq4XE"
      },
      "outputs": [],
      "source": [
        "for i in inputcolumns:\n",
        "  data = data.withColumn(i,data[i].cast(IntegerType()))"
      ]
    },
    {
      "cell_type": "code",
      "execution_count": null,
      "metadata": {
        "id": "C2XKQCZjrgrm",
        "colab": {
          "base_uri": "https://localhost:8080/"
        },
        "outputId": "47697ce4-b0b1-4382-ebca-4768dfa7782f"
      },
      "outputs": [
        {
          "output_type": "stream",
          "name": "stdout",
          "text": [
            "root\n",
            " |-- loan_id: string (nullable = true)\n",
            " |--  no_of_dependents: integer (nullable = true)\n",
            " |--  income_annum: integer (nullable = true)\n",
            " |--  loan_amount: integer (nullable = true)\n",
            " |--  loan_term: integer (nullable = true)\n",
            " |--  cibil_score: integer (nullable = true)\n",
            " |--  residential_assets_value: integer (nullable = true)\n",
            " |--  commercial_assets_value: integer (nullable = true)\n",
            " |--  luxury_assets_value: integer (nullable = true)\n",
            " |--  bank_asset_value: integer (nullable = true)\n",
            " |-- self_employed_numeric: double (nullable = false)\n",
            " |-- education_numeric: double (nullable = false)\n",
            " |-- loan_status: double (nullable = false)\n",
            "\n"
          ]
        }
      ],
      "source": [
        "data.printSchema()"
      ]
    },
    {
      "cell_type": "code",
      "execution_count": null,
      "metadata": {
        "id": "H1K-jhf1NyV3"
      },
      "outputs": [],
      "source": [
        "data = data.na.fill(0.0)\n",
        "\n",
        "# Replace infinite values with a large finite value (e.g., 1e10)\n",
        "data = data.na.replace(float('inf'), 1.0e10)"
      ]
    },
    {
      "cell_type": "code",
      "execution_count": null,
      "metadata": {
        "id": "j-FDaXk7NyYR"
      },
      "outputs": [],
      "source": []
    },
    {
      "cell_type": "code",
      "execution_count": null,
      "metadata": {
        "id": "cadqJ_KwNyd5"
      },
      "outputs": [],
      "source": []
    },
    {
      "cell_type": "code",
      "execution_count": null,
      "metadata": {
        "id": "K8NOcKXcuGHG"
      },
      "outputs": [],
      "source": [
        "inputcolumn = [' no_of_dependents',' income_annum',' loan_amount',' loan_term',' cibil_score',' residential_assets_value',' commercial_assets_value',' luxury_assets_value',' bank_asset_value','self_employed_numeric','education_numeric']"
      ]
    },
    {
      "cell_type": "code",
      "execution_count": null,
      "metadata": {
        "id": "LZhTgymivEpW"
      },
      "outputs": [],
      "source": [
        "d = VectorAssembler(inputCols = inputcolumn, outputCol = 'attributes')\n",
        "data = d.transform(data)"
      ]
    },
    {
      "cell_type": "code",
      "execution_count": null,
      "metadata": {
        "id": "51wPkoEYvTh9",
        "colab": {
          "base_uri": "https://localhost:8080/"
        },
        "outputId": "76e132a6-ed19-4d6f-9b9e-17a410777caa"
      },
      "outputs": [
        {
          "output_type": "stream",
          "name": "stdout",
          "text": [
            "+-------+-----------------+-------------+------------+----------+------------+-------------------------+------------------------+--------------------+-----------------+---------------------+-----------------+-----------+--------------------+\n",
            "|loan_id| no_of_dependents| income_annum| loan_amount| loan_term| cibil_score| residential_assets_value| commercial_assets_value| luxury_assets_value| bank_asset_value|self_employed_numeric|education_numeric|loan_status|          attributes|\n",
            "+-------+-----------------+-------------+------------+----------+------------+-------------------------+------------------------+--------------------+-----------------+---------------------+-----------------+-----------+--------------------+\n",
            "|      1|                2|      9600000|    29900000|        12|         778|                  2400000|                17600000|            22700000|          8000000|                  1.0|              0.0|        0.0|[2.0,9600000.0,2....|\n",
            "|      2|                0|      4100000|    12200000|         8|         417|                  2700000|                 2200000|             8800000|          3300000|                  0.0|              1.0|        1.0|[0.0,4100000.0,1....|\n",
            "|      3|                3|      9100000|    29700000|        20|         506|                  7100000|                 4500000|            33300000|         12800000|                  1.0|              0.0|        1.0|[3.0,9100000.0,2....|\n",
            "|      4|                3|      8200000|    30700000|         8|         467|                 18200000|                 3300000|            23300000|          7900000|                  1.0|              0.0|        1.0|[3.0,8200000.0,3....|\n",
            "|      5|                5|      9800000|    24200000|        20|         382|                 12400000|                 8200000|            29400000|          5000000|                  0.0|              1.0|        1.0|[5.0,9800000.0,2....|\n",
            "|      6|                0|      4800000|    13500000|        10|         319|                  6800000|                 8300000|            13700000|          5100000|                  0.0|              0.0|        1.0|[0.0,4800000.0,1....|\n",
            "|      7|                5|      8700000|    33000000|         4|         678|                 22500000|                14800000|            29200000|          4300000|                  1.0|              0.0|        0.0|[5.0,8700000.0,3....|\n",
            "|      8|                2|      5700000|    15000000|        20|         382|                 13200000|                 5700000|            11800000|          6000000|                  0.0|              0.0|        1.0|[2.0,5700000.0,1....|\n",
            "|      9|                0|       800000|     2200000|        20|         782|                  1300000|                  800000|             2800000|           600000|                  0.0|              0.0|        0.0|[0.0,800000.0,220...|\n",
            "|     10|                5|      1100000|     4300000|        10|         388|                  3200000|                 1400000|             3300000|          1600000|                  1.0|              1.0|        1.0|[5.0,1100000.0,43...|\n",
            "|     11|                4|      2900000|    11200000|         2|         547|                  8100000|                 4700000|             9500000|          3100000|                  0.0|              0.0|        0.0|[4.0,2900000.0,1....|\n",
            "|     12|                2|      6700000|    22700000|        18|         538|                 15300000|                 5800000|            20400000|          6400000|                  0.0|              1.0|        1.0|[2.0,6700000.0,2....|\n",
            "|     13|                3|      5000000|    11600000|        16|         311|                  6400000|                 9600000|            14600000|          4300000|                  0.0|              1.0|        1.0|[3.0,5000000.0,1....|\n",
            "|     14|                2|      9100000|    31500000|        14|         679|                 10800000|                16600000|            20900000|          5000000|                  0.0|              0.0|        0.0|[2.0,9100000.0,3....|\n",
            "|     15|                1|      1900000|     7400000|         6|         469|                  1900000|                 1200000|             5900000|          1900000|                  1.0|              1.0|        1.0|[1.0,1900000.0,74...|\n",
            "|     16|                5|      4700000|    10700000|        10|         794|                  5700000|                 3900000|            16400000|          4400000|                  1.0|              1.0|        0.0|[5.0,4700000.0,1....|\n",
            "|     17|                2|       500000|     1600000|         4|         663|                  1300000|                  100000|             1300000|           700000|                  0.0|              0.0|        0.0|[2.0,500000.0,160...|\n",
            "|     18|                4|      2900000|     9400000|        14|         780|                  2900000|                 2800000|             6700000|          4300000|                  0.0|              1.0|        0.0|[4.0,2900000.0,94...|\n",
            "|     19|                2|      2700000|    10300000|        10|         736|                  1000000|                       0|             6200000|          3300000|                  1.0|              0.0|        0.0|[2.0,2700000.0,1....|\n",
            "|     20|                5|      6300000|    14600000|        12|         652|                 10300000|                 3500000|            23500000|          5900000|                  1.0|              0.0|        0.0|[5.0,6300000.0,1....|\n",
            "+-------+-----------------+-------------+------------+----------+------------+-------------------------+------------------------+--------------------+-----------------+---------------------+-----------------+-----------+--------------------+\n",
            "only showing top 20 rows\n",
            "\n"
          ]
        }
      ],
      "source": [
        "data.show()"
      ]
    },
    {
      "cell_type": "code",
      "execution_count": null,
      "metadata": {
        "id": "kV-Cw57QvtPU"
      },
      "outputs": [],
      "source": [
        "train, test = data.randomSplit([0.8,0.2], seed=11)"
      ]
    },
    {
      "cell_type": "code",
      "execution_count": null,
      "metadata": {
        "id": "jNEjT3MqwNyd",
        "colab": {
          "base_uri": "https://localhost:8080/"
        },
        "outputId": "586ac42c-750e-4f0f-c879-2beee0e40bbe"
      },
      "outputs": [
        {
          "output_type": "execute_result",
          "data": {
            "text/plain": [
              "3437"
            ]
          },
          "metadata": {},
          "execution_count": 29
        }
      ],
      "source": [
        "train.count()"
      ]
    },
    {
      "cell_type": "code",
      "execution_count": null,
      "metadata": {
        "id": "EM8Yzkf1wOQA",
        "colab": {
          "base_uri": "https://localhost:8080/"
        },
        "outputId": "271fa57c-9ed2-4a56-f038-215eeceb0183"
      },
      "outputs": [
        {
          "output_type": "execute_result",
          "data": {
            "text/plain": [
              "832"
            ]
          },
          "metadata": {},
          "execution_count": 30
        }
      ],
      "source": [
        "test.count()"
      ]
    },
    {
      "cell_type": "markdown",
      "metadata": {
        "id": "cAdUFz2gAGLm"
      },
      "source": [
        "***LOGISTIC REGRESSION***"
      ]
    },
    {
      "cell_type": "code",
      "execution_count": null,
      "metadata": {
        "id": "5Ziq_0k5z88R"
      },
      "outputs": [],
      "source": [
        "from pyspark.ml.classification import LogisticRegression\n",
        "\n",
        "log = LogisticRegression(featuresCol='attributes',\n",
        "                             labelCol='loan_status')"
      ]
    },
    {
      "cell_type": "code",
      "execution_count": null,
      "metadata": {
        "id": "Pu7nHlapz274"
      },
      "outputs": [],
      "source": [
        "pipe = Pipeline(stages = [log])"
      ]
    },
    {
      "cell_type": "code",
      "execution_count": null,
      "metadata": {
        "id": "Wcbd3gtJz2_c"
      },
      "outputs": [],
      "source": [
        "fit_model = pipe.fit(train)"
      ]
    },
    {
      "cell_type": "code",
      "execution_count": null,
      "metadata": {
        "id": "p1Ch-l5YwQu1"
      },
      "outputs": [],
      "source": [
        "results = fit_model.transform(test)"
      ]
    },
    {
      "cell_type": "code",
      "execution_count": null,
      "metadata": {
        "id": "8tpQ1XT4yyPz"
      },
      "outputs": [],
      "source": [
        "from pyspark.ml.evaluation import BinaryClassificationEvaluator\n",
        "res = BinaryClassificationEvaluator(rawPredictionCol='prediction',labelCol='loan_status')\n",
        "efficiency = res.evaluate(results)"
      ]
    },
    {
      "cell_type": "code",
      "execution_count": null,
      "metadata": {
        "id": "GkwalhyHzbnl",
        "colab": {
          "base_uri": "https://localhost:8080/"
        },
        "outputId": "f41f43f5-63e0-464f-9f47-a6dace706b53"
      },
      "outputs": [
        {
          "output_type": "stream",
          "name": "stdout",
          "text": [
            "Accuracy of the model is:  89.37228915662652 %\n"
          ]
        }
      ],
      "source": [
        "print(\"Accuracy of the model is: \",efficiency*100,\"%\")"
      ]
    },
    {
      "cell_type": "code",
      "source": [
        "param_grid_log = ParamGridBuilder() \\\n",
        "    .addGrid(log.regParam, [0.01, 0.1, 1.0]) \\\n",
        "    .addGrid(log.elasticNetParam, [0.0, 0.5, 1.0]) \\\n",
        "    .build()"
      ],
      "metadata": {
        "id": "R5Q61fn_yEE-"
      },
      "execution_count": null,
      "outputs": []
    },
    {
      "cell_type": "code",
      "source": [
        "evaluator = BinaryClassificationEvaluator(labelCol=\"loan_status\", rawPredictionCol=\"prediction\")"
      ],
      "metadata": {
        "id": "Qg1xqNe-yUz8"
      },
      "execution_count": null,
      "outputs": []
    },
    {
      "cell_type": "code",
      "source": [
        "crossval = CrossValidator(estimator=log,\n",
        "                          estimatorParamMaps=param_grid_log,\n",
        "                          evaluator=evaluator,\n",
        "                          numFolds=5)"
      ],
      "metadata": {
        "id": "t4kUtJuByEHk"
      },
      "execution_count": null,
      "outputs": []
    },
    {
      "cell_type": "code",
      "source": [
        "cv_model_log = crossval.fit(train)\n"
      ],
      "metadata": {
        "id": "UexyWKmiyEJu"
      },
      "execution_count": null,
      "outputs": []
    },
    {
      "cell_type": "code",
      "source": [
        "best_model_log = cv_model_log.bestModel\n",
        "best_reg_param = best_model_log._java_obj.getRegParam()\n",
        "best_elastic_net_param = best_model_log._java_obj.getElasticNetParam()"
      ],
      "metadata": {
        "id": "yCxMTVXeyENM"
      },
      "execution_count": null,
      "outputs": []
    },
    {
      "cell_type": "code",
      "source": [
        "predictions_log = best_model_log.transform(test)"
      ],
      "metadata": {
        "id": "VsrbFt6DytRN"
      },
      "execution_count": null,
      "outputs": []
    },
    {
      "cell_type": "code",
      "source": [
        "bestaccuracy_log = evaluator.evaluate(predictions_log)\n",
        "print(f\"Best regularizing parameter: {best_reg_param}\")\n",
        "print(f\"Best elastic net parameter: {best_elastic_net_param}\")\n",
        "print()\n",
        "print(f\"AND THEY GIVE OUT ACCURACY AS: {bestaccuracy_log*100}\")"
      ],
      "metadata": {
        "colab": {
          "base_uri": "https://localhost:8080/"
        },
        "id": "aaehRmIAytTl",
        "outputId": "2cbfbf5a-6078-42e6-e52b-1f78d285f0cf"
      },
      "execution_count": null,
      "outputs": [
        {
          "output_type": "stream",
          "name": "stdout",
          "text": [
            "Best regularizing parameter: 0.01\n",
            "Best elastic net parameter: 0.0\n",
            "\n",
            "AND THEY GIVE OUT ACCURACY AS: 89.87228915662651\n"
          ]
        }
      ]
    },
    {
      "cell_type": "code",
      "source": [
        "print('Difference in ACCURACY after HyperParameter Tuning is',(bestaccuracy_log-efficiency)*100)"
      ],
      "metadata": {
        "colab": {
          "base_uri": "https://localhost:8080/"
        },
        "id": "IS5puIIuytXB",
        "outputId": "a6f41b37-8b2b-49d4-ae24-370c56c6bc3f"
      },
      "execution_count": null,
      "outputs": [
        {
          "output_type": "stream",
          "name": "stdout",
          "text": [
            "Difference in ACCURACY after HyperParameter Tuning is 0.49999999999998934\n"
          ]
        }
      ]
    },
    {
      "cell_type": "code",
      "execution_count": null,
      "metadata": {
        "id": "Z1_vv_PSz0Y-",
        "colab": {
          "base_uri": "https://localhost:8080/"
        },
        "outputId": "919d830f-487b-4852-ccce-2d0452fd984c"
      },
      "outputs": [
        {
          "output_type": "stream",
          "name": "stdout",
          "text": [
            "+-------+-----------------+-------------+------------+----------+------------+-------------------------+------------------------+--------------------+-----------------+---------------------+-----------------+-----------+--------------------+--------------------+--------------------+----------+\n",
            "|loan_id| no_of_dependents| income_annum| loan_amount| loan_term| cibil_score| residential_assets_value| commercial_assets_value| luxury_assets_value| bank_asset_value|self_employed_numeric|education_numeric|loan_status|          attributes|       rawPrediction|         probability|prediction|\n",
            "+-------+-----------------+-------------+------------+----------+------------+-------------------------+------------------------+--------------------+-----------------+---------------------+-----------------+-----------+--------------------+--------------------+--------------------+----------+\n",
            "|   1002|                1|      4900000|    17700000|         8|         722|                  9200000|                 7300000|            16400000|          3000000|                  0.0|              0.0|        0.0|[1.0,4900000.0,1....|[6.14682896779372...|[0.99786431307336...|       0.0|\n",
            "|   1003|                5|      9600000|    20700000|        14|         442|                 25800000|                 9800000|            31800000|          8200000|                  1.0|              1.0|        1.0|[5.0,9600000.0,2....|[-4.0159262545891...|[0.01770705806485...|       1.0|\n",
            "|   1009|                0|      7900000|    30800000|         4|         726|                  5000000|                14600000|            23800000|          5500000|                  1.0|              1.0|        0.0|[0.0,7900000.0,3....|[7.26120314549436...|[0.99929823022363...|       0.0|\n",
            "|    101|                4|       400000|      900000|        12|         478|                   700000|                  100000|             1200000|           100000|                  1.0|              1.0|        1.0|[4.0,400000.0,900...|[-1.5707891447731...|[0.17210392200560...|       1.0|\n",
            "|   1010|                1|      8900000|    22600000|        18|         617|                  8400000|                15500000|            27900000|         11700000|                  1.0|              0.0|        0.0|[1.0,8900000.0,2....|[0.85618670759910...|[0.70186333306917...|       0.0|\n",
            "|   1012|                1|      1400000|     3300000|         8|         306|                  3200000|                  800000|             2700000|           800000|                  1.0|              1.0|        1.0|[1.0,1400000.0,33...|[-5.4524576836453...|[0.00426746935374...|       1.0|\n",
            "|   1013|                5|       500000|     1400000|         4|         471|                   500000|                  100000|             1300000|           300000|                  0.0|              0.0|        1.0|[5.0,500000.0,140...|[-0.2065407716932...|[0.44854758659226...|       1.0|\n",
            "|   1017|                3|      1600000|     3900000|        20|         804|                   900000|                 2500000|             3200000|           800000|                  1.0|              1.0|        0.0|[3.0,1600000.0,39...|[5.38434886009983...|[0.99543312536237...|       0.0|\n",
            "|   1022|                2|      7600000|    23600000|         6|         358|                 20200000|                 2900000|            22100000|         10900000|                  0.0|              1.0|        1.0|[2.0,7600000.0,2....|[-3.3488924818798...|[0.03393144998761...|       1.0|\n",
            "|   1024|                4|      1100000|     2900000|         4|         554|                  2800000|                 1000000|             4100000|          1600000|                  0.0|              1.0|        0.0|[4.0,1100000.0,29...|[1.85692381667543...|[0.86493799075758...|       0.0|\n",
            "|   1027|                2|      1900000|     7000000|        14|         818|                  4800000|                 3500000|             4500000|          2100000|                  0.0|              1.0|        0.0|[2.0,1900000.0,70...|[7.32364662879710...|[0.99934068303688...|       0.0|\n",
            "|   1031|                3|      7900000|    26600000|        12|         409|                 17100000|                 1400000|            22500000|          8700000|                  0.0|              0.0|        1.0|[3.0,7900000.0,2....|[-2.8344719201576...|[0.05548955608182...|       1.0|\n",
            "|   1033|                4|       700000|     2600000|        18|         478|                   600000|                  600000|             2100000|           300000|                  0.0|              0.0|        1.0|[4.0,700000.0,260...|[-2.1717445845806...|[0.10231668566444...|       1.0|\n",
            "|   1040|                5|       600000|     2300000|         4|         347|                        0|                       0|             1900000|           200000|                  1.0|              1.0|        1.0|[5.0,600000.0,230...|[-3.5643098563362...|[0.02753677552176...|       1.0|\n",
            "|   1044|                2|      5800000|    13300000|         4|         878|                  8400000|                 5400000|            18600000|          4500000|                  1.0|              0.0|        0.0|[2.0,5800000.0,1....|[9.41528207922649...|[0.99991853715615...|       0.0|\n",
            "|   1059|                3|      3000000|    11400000|        10|         424|                  1800000|                 4200000|            10900000|          1500000|                  0.0|              1.0|        1.0|[3.0,3000000.0,1....|[-2.0968385003751...|[0.10940448218194...|       1.0|\n",
            "|   1062|                3|       300000|      500000|         2|         477|                   700000|                  200000|              800000|           400000|                  1.0|              1.0|        1.0|[3.0,300000.0,500...|[0.03848487862680...|[0.50962003234483...|       0.0|\n",
            "|   1066|                2|      1800000|     3600000|         4|         343|                  3400000|                 1100000|             6200000|          1500000|                  0.0|              1.0|        1.0|[2.0,1800000.0,36...|[-3.8263860760401...|[0.02132361105849...|       1.0|\n",
            "|   1069|                1|       200000|      400000|         6|         768|                   300000|                  100000|              600000|                0|                  0.0|              1.0|        0.0|[1.0,200000.0,400...|[7.04720501759087...|[0.99913091921708...|       0.0|\n",
            "|   1078|                1|      5900000|    13000000|         2|         386|                 16300000|                 5000000|            12000000|          3800000|                  1.0|              0.0|        1.0|[1.0,5900000.0,1....|[-3.0741361200854...|[0.04418681159065...|       1.0|\n",
            "+-------+-----------------+-------------+------------+----------+------------+-------------------------+------------------------+--------------------+-----------------+---------------------+-----------------+-----------+--------------------+--------------------+--------------------+----------+\n",
            "only showing top 20 rows\n",
            "\n"
          ]
        }
      ],
      "source": [
        "results.show()"
      ]
    },
    {
      "cell_type": "markdown",
      "metadata": {
        "id": "QmS2sHu2Fgqt"
      },
      "source": [
        "***RANDOM FOREST***"
      ]
    },
    {
      "cell_type": "code",
      "execution_count": null,
      "metadata": {
        "id": "EVU8ZYkgMaG8"
      },
      "outputs": [],
      "source": [
        "from pyspark.ml.classification import RandomForestClassifier"
      ]
    },
    {
      "cell_type": "code",
      "execution_count": null,
      "metadata": {
        "id": "dilFgwmUAXzg"
      },
      "outputs": [],
      "source": [
        "rf = RandomForestClassifier(labelCol=\"loan_status\", featuresCol=\"attributes\", numTrees=100)"
      ]
    },
    {
      "cell_type": "code",
      "execution_count": null,
      "metadata": {
        "id": "xLSA23hzAcyE"
      },
      "outputs": [],
      "source": [
        "model = rf.fit(train)"
      ]
    },
    {
      "cell_type": "code",
      "execution_count": null,
      "metadata": {
        "id": "DbSNXU3kA6sg"
      },
      "outputs": [],
      "source": [
        "predictions = model.transform(test)"
      ]
    },
    {
      "cell_type": "code",
      "execution_count": null,
      "metadata": {
        "colab": {
          "base_uri": "https://localhost:8080/"
        },
        "id": "eO3WG5bjA_co",
        "outputId": "d4daec64-f841-4167-a3d8-98c872317347"
      },
      "outputs": [
        {
          "output_type": "stream",
          "name": "stdout",
          "text": [
            "Accuracy: 94.8855421686747\n"
          ]
        }
      ],
      "source": [
        "evaluator = BinaryClassificationEvaluator(labelCol=\"loan_status\", rawPredictionCol=\"prediction\")\n",
        "accuracy_rf = evaluator.evaluate(predictions)\n",
        "print(f\"Accuracy: {accuracy_rf*100}\")"
      ]
    },
    {
      "cell_type": "code",
      "execution_count": null,
      "metadata": {
        "colab": {
          "base_uri": "https://localhost:8080/"
        },
        "id": "Mo8n-I2cEloE",
        "outputId": "cf63a8d6-4b70-4b73-c723-fed03b6bae1d"
      },
      "outputs": [
        {
          "output_type": "stream",
          "name": "stdout",
          "text": [
            "Feature Importances:\n",
            " no_of_dependents: 0.003194027723214217\n",
            "\n",
            " income_annum: 0.0068814708482317286\n",
            "\n",
            " loan_amount: 0.011487211652791833\n",
            "\n",
            " loan_term: 0.0798226054029281\n",
            "\n",
            " cibil_score: 0.8764986912499868\n",
            "\n",
            " residential_assets_value: 0.004838895863522044\n",
            "\n",
            " commercial_assets_value: 0.005039408129603976\n",
            "\n",
            " luxury_assets_value: 0.0062605580175798545\n",
            "\n",
            " bank_asset_value: 0.0052335976736371664\n",
            "\n",
            "self_employed_numeric: 0.0002232433898657678\n",
            "\n",
            "education_numeric: 0.0005202900486385249\n",
            "\n"
          ]
        }
      ],
      "source": [
        "feature_importances = model.featureImportances\n",
        "print(\"Feature Importances:\")\n",
        "for i in range(len(inputcolumn)):\n",
        "    print(f\"{inputcolumn[i]}: {feature_importances[i]}\")\n",
        "    print()"
      ]
    },
    {
      "cell_type": "code",
      "source": [
        "from pyspark.ml.tuning import ParamGridBuilder, CrossValidator\n",
        "paramGrid = (ParamGridBuilder()\n",
        "             .addGrid(rf.numTrees, [10, 50, 100])\n",
        "             .addGrid(rf.maxDepth, [5, 10, 15])\n",
        "             .build())"
      ],
      "metadata": {
        "id": "TFfBTOibQR79"
      },
      "execution_count": null,
      "outputs": []
    },
    {
      "cell_type": "code",
      "execution_count": null,
      "metadata": {
        "id": "c7qlMgOcE_rI"
      },
      "outputs": [],
      "source": [
        "evaluator_after_parameter = BinaryClassificationEvaluator(labelCol=\"loan_status\", rawPredictionCol=\"prediction\")"
      ]
    },
    {
      "cell_type": "code",
      "source": [
        "cv = CrossValidator(estimator=rf, estimatorParamMaps=paramGrid, evaluator=evaluator_after_parameter, numFolds=5)\n"
      ],
      "metadata": {
        "id": "baGtMcgyPgLb"
      },
      "execution_count": null,
      "outputs": []
    },
    {
      "cell_type": "code",
      "source": [
        "cvModel = cv.fit(train)"
      ],
      "metadata": {
        "id": "umZKg3aUQavB"
      },
      "execution_count": null,
      "outputs": []
    },
    {
      "cell_type": "code",
      "source": [],
      "metadata": {
        "id": "6sLj2q28V68O"
      },
      "execution_count": null,
      "outputs": []
    },
    {
      "cell_type": "code",
      "source": [],
      "metadata": {
        "id": "ml06PA7mWCos"
      },
      "execution_count": null,
      "outputs": []
    },
    {
      "cell_type": "code",
      "source": [
        "best_rf_model = cvModel.bestModel"
      ],
      "metadata": {
        "id": "gcECpdInQmZd"
      },
      "execution_count": null,
      "outputs": []
    },
    {
      "cell_type": "code",
      "source": [
        "test_results = best_rf_model.transform(test)\n",
        "accuracy_after_parameter = evaluator_after_parameter.evaluate(test_results)\n"
      ],
      "metadata": {
        "id": "z_D2nzhnQ_MD"
      },
      "execution_count": null,
      "outputs": []
    },
    {
      "cell_type": "code",
      "source": [],
      "metadata": {
        "id": "WozPpgrWTKdk"
      },
      "execution_count": null,
      "outputs": []
    },
    {
      "cell_type": "code",
      "source": [
        "best_num_trees = best_rf_model.getNumTrees\n",
        "best_max_depth = best_rf_model.getMaxDepth()\n",
        "\n",
        "print(\"Best Hyperparameters:\")\n",
        "print(f\"Number of Trees: {best_num_trees}\")\n",
        "print(f\"Max Depth: {best_max_depth}\")\n",
        "print()\n",
        "print(f\"AND THEY GIVE OUT ACCURACY AS: {accuracy_after_parameter*100}\")"
      ],
      "metadata": {
        "colab": {
          "base_uri": "https://localhost:8080/"
        },
        "id": "d2aGK7lKTNAu",
        "outputId": "e7ac8d4b-64c6-4cf0-fdb7-efa28ce81b19"
      },
      "execution_count": null,
      "outputs": [
        {
          "output_type": "stream",
          "name": "stdout",
          "text": [
            "Best Hyperparameters:\n",
            "Number of Trees: 100\n",
            "Max Depth: 15\n",
            "\n",
            "AND THEY GIVE OUT ACCURACY AS: 96.13614457831325\n"
          ]
        }
      ]
    },
    {
      "cell_type": "code",
      "source": [
        "print('Difference in ACCURACY after HyperParameter Tuning is',(accuracy_after_parameter-accuracy_rf)*100)"
      ],
      "metadata": {
        "colab": {
          "base_uri": "https://localhost:8080/"
        },
        "id": "bTBd2pqnTPqL",
        "outputId": "75bc08d7-cee5-450f-c3e8-d9749e02d74f"
      },
      "execution_count": null,
      "outputs": [
        {
          "output_type": "stream",
          "name": "stdout",
          "text": [
            "Difference in ACCURACY after HyperParameter Tuning is 1.250602409638557\n"
          ]
        }
      ]
    },
    {
      "cell_type": "code",
      "source": [],
      "metadata": {
        "id": "WS9ilPzwX87f"
      },
      "execution_count": null,
      "outputs": []
    },
    {
      "cell_type": "markdown",
      "source": [
        "***GBT CLASSIFIER***"
      ],
      "metadata": {
        "id": "c3F86mhtYKO2"
      }
    },
    {
      "cell_type": "code",
      "source": [
        "from pyspark.ml.classification import GBTClassifier"
      ],
      "metadata": {
        "id": "kJdvrRQiaRu7"
      },
      "execution_count": null,
      "outputs": []
    },
    {
      "cell_type": "code",
      "source": [
        "gbt = GBTClassifier(labelCol=\"loan_status\", featuresCol=\"attributes\", maxIter=10)\n"
      ],
      "metadata": {
        "id": "H--xnyuMaSX5"
      },
      "execution_count": null,
      "outputs": []
    },
    {
      "cell_type": "code",
      "source": [
        "pipeline = Pipeline(stages=[gbt])"
      ],
      "metadata": {
        "id": "2pfqTy8mcDMp"
      },
      "execution_count": null,
      "outputs": []
    },
    {
      "cell_type": "code",
      "source": [
        "model = pipeline.fit(train)"
      ],
      "metadata": {
        "id": "urdyRdJJcIAx"
      },
      "execution_count": null,
      "outputs": []
    },
    {
      "cell_type": "code",
      "source": [
        "predictions_gbt = model.transform(test)\n"
      ],
      "metadata": {
        "id": "pvzutBu3cKlO"
      },
      "execution_count": null,
      "outputs": []
    },
    {
      "cell_type": "code",
      "source": [
        "evaluator = BinaryClassificationEvaluator(labelCol=\"loan_status\", rawPredictionCol=\"prediction\")\n",
        "accuracy_gbt = evaluator.evaluate(predictions_gbt)"
      ],
      "metadata": {
        "id": "599d_85HcOqe"
      },
      "execution_count": null,
      "outputs": []
    },
    {
      "cell_type": "code",
      "source": [
        "accuracy_gbt"
      ],
      "metadata": {
        "colab": {
          "base_uri": "https://localhost:8080/"
        },
        "id": "kWR14fA3cWQZ",
        "outputId": "68dc92a1-0f44-4856-8fc0-ec6407b6ba03"
      },
      "execution_count": null,
      "outputs": [
        {
          "output_type": "execute_result",
          "data": {
            "text/plain": [
              "0.9543614457831324"
            ]
          },
          "metadata": {},
          "execution_count": 143
        }
      ]
    },
    {
      "cell_type": "code",
      "source": [
        "paramGrid_gbt = (ParamGridBuilder()\n",
        "    .addGrid(gbt.maxIter, [10, 20, 30])\n",
        "    .addGrid(gbt.stepSize, [0.1, 0.01])\n",
        "    .build())"
      ],
      "metadata": {
        "id": "lT3vpe6ncXhD"
      },
      "execution_count": null,
      "outputs": []
    },
    {
      "cell_type": "code",
      "source": [
        "crossval = CrossValidator(estimator=pipeline,\n",
        "                          estimatorParamMaps=paramGrid_gbt,\n",
        "                          evaluator=evaluator,\n",
        "                          numFolds=5)"
      ],
      "metadata": {
        "id": "Q2cziwkWg4h0"
      },
      "execution_count": null,
      "outputs": []
    },
    {
      "cell_type": "code",
      "source": [
        "cvModel_gbt = crossval.fit(train)"
      ],
      "metadata": {
        "id": "wQDoWn92hEne"
      },
      "execution_count": null,
      "outputs": []
    },
    {
      "cell_type": "code",
      "source": [
        "bestModel_gbt = cvModel_gbt.bestModel\n",
        "bestMaxIter = bestModel_gbt.stages[0].getMaxIter()\n",
        "bestStepSize = bestModel_gbt.stages[0].getStepSize()"
      ],
      "metadata": {
        "id": "T2dKr98yhIsM"
      },
      "execution_count": null,
      "outputs": []
    },
    {
      "cell_type": "code",
      "source": [
        "predictions_gbt = bestModel_gbt.transform(test)"
      ],
      "metadata": {
        "id": "C5P4Ak9ohPVu"
      },
      "execution_count": null,
      "outputs": []
    },
    {
      "cell_type": "code",
      "source": [
        "bestaccuracy_gbt = evaluator.evaluate(predictions_gbt)\n",
        "print(f\"Best Max Iter: {bestMaxIter}\")\n",
        "print(f\"Best Step Size: {bestStepSize}\")\n",
        "print()\n",
        "print(f\"AND THEY GIVE OUT ACCURACY AS: {bestaccuracy_gbt*100}\")"
      ],
      "metadata": {
        "colab": {
          "base_uri": "https://localhost:8080/"
        },
        "id": "F_-o_8XYhV7B",
        "outputId": "8ab605d3-bfb9-484e-aa24-86181b91d26e"
      },
      "execution_count": null,
      "outputs": [
        {
          "output_type": "stream",
          "name": "stdout",
          "text": [
            "Best Max Iter: 10\n",
            "Best Step Size: 0.01\n",
            "\n",
            "AND THEY GIVE OUT ACCURACY AS: 95.2855421686747\n"
          ]
        }
      ]
    },
    {
      "cell_type": "code",
      "source": [
        "print('Difference in accuracy after Hyper parameter tuning is',(bestaccuracy_gbt-accuracy_gbt)*100)"
      ],
      "metadata": {
        "colab": {
          "base_uri": "https://localhost:8080/"
        },
        "id": "w7J-obT8htxx",
        "outputId": "2f6e429c-bfda-400e-b2bd-21af3eac9c9f"
      },
      "execution_count": null,
      "outputs": [
        {
          "output_type": "stream",
          "name": "stdout",
          "text": [
            "Difference in accuracy after Hyper parameter tuning is -0.150602409638545\n"
          ]
        }
      ]
    },
    {
      "cell_type": "code",
      "source": [],
      "metadata": {
        "id": "GuzkjOViryc-"
      },
      "execution_count": null,
      "outputs": []
    },
    {
      "cell_type": "markdown",
      "source": [
        "***LINEAR SVC***"
      ],
      "metadata": {
        "id": "Aq_3Ny7JtMkn"
      }
    },
    {
      "cell_type": "code",
      "source": [
        "from pyspark.ml.classification import LinearSVC"
      ],
      "metadata": {
        "id": "gCHbRv4NtQpy"
      },
      "execution_count": null,
      "outputs": []
    },
    {
      "cell_type": "code",
      "source": [
        "svm = LinearSVC(featuresCol=\"attributes\", labelCol=\"loan_status\")\n",
        "svm.setMaxIter(100)\n",
        "svm.setRegParam(0.01)"
      ],
      "metadata": {
        "colab": {
          "base_uri": "https://localhost:8080/"
        },
        "id": "d6ib0M83tQye",
        "outputId": "6bc7a31a-01da-408a-b59d-1281030ec6c0"
      },
      "execution_count": null,
      "outputs": [
        {
          "output_type": "execute_result",
          "data": {
            "text/plain": [
              "LinearSVC_365646606a1d"
            ]
          },
          "metadata": {},
          "execution_count": 168
        }
      ]
    },
    {
      "cell_type": "code",
      "source": [
        "model = svm.fit(train)\n"
      ],
      "metadata": {
        "id": "a2o6IMRutdyI"
      },
      "execution_count": null,
      "outputs": []
    },
    {
      "cell_type": "code",
      "source": [
        "predictions_svc = model.transform(test)\n"
      ],
      "metadata": {
        "id": "Spg7w-KCtfym"
      },
      "execution_count": null,
      "outputs": []
    },
    {
      "cell_type": "code",
      "source": [
        "accuracy_svc = evaluator.evaluate(predictions_svc)\n",
        "print(\"Accuracy:\", accuracy_svc)"
      ],
      "metadata": {
        "colab": {
          "base_uri": "https://localhost:8080/"
        },
        "id": "maELO8zDt2E-",
        "outputId": "fb90cd5a-ff0d-4df3-d1cf-75b22d725ab3"
      },
      "execution_count": null,
      "outputs": [
        {
          "output_type": "stream",
          "name": "stdout",
          "text": [
            "Accuracy: 0.9107831325301203\n"
          ]
        }
      ]
    },
    {
      "cell_type": "code",
      "source": [
        "paramGrid_svc = ParamGridBuilder() \\\n",
        "    .addGrid(svm.maxIter, [10, 50, 100]) \\\n",
        "    .addGrid(svm.standardization, [True, False]) \\\n",
        "    .build()"
      ],
      "metadata": {
        "id": "Gj12J0O4vEpM"
      },
      "execution_count": null,
      "outputs": []
    },
    {
      "cell_type": "code",
      "source": [
        "crossval = CrossValidator(estimator=svm,\n",
        "                          estimatorParamMaps=paramGrid_svc,\n",
        "                          evaluator=evaluator,\n",
        "                          numFolds=5)"
      ],
      "metadata": {
        "id": "SoYvhaAXvZFy"
      },
      "execution_count": null,
      "outputs": []
    },
    {
      "cell_type": "code",
      "source": [
        "cvModel_svc = crossval.fit(train)"
      ],
      "metadata": {
        "id": "43btJPhxvePj"
      },
      "execution_count": null,
      "outputs": []
    },
    {
      "cell_type": "code",
      "source": [
        "bestModel_svc = cvModel_svc.bestModel\n",
        "bestMaxIter = bestModel_svc.getMaxIter()\n",
        "bestStandardization = bestModel_svc.getStandardization()\n"
      ],
      "metadata": {
        "id": "gPf5BPUrviYD"
      },
      "execution_count": null,
      "outputs": []
    },
    {
      "cell_type": "code",
      "source": [
        "bestPredictions = bestModel_svc.transform(test)"
      ],
      "metadata": {
        "id": "nvIG_wKgvryV"
      },
      "execution_count": null,
      "outputs": []
    },
    {
      "cell_type": "code",
      "source": [
        "bestaccuracy_svc = evaluator.evaluate(bestPredictions)"
      ],
      "metadata": {
        "id": "VFlFK0IKvwx6"
      },
      "execution_count": null,
      "outputs": []
    },
    {
      "cell_type": "code",
      "source": [
        "print(f\"Best Max Iter: {bestMaxIter}\")\n",
        "print(f\"Best Standardization: {bestStandardization}\")\n",
        "print()\n",
        "print(f\"AND THEY GIVE OUT ACCURACY AS: {bestaccuracy_svc*100}\")"
      ],
      "metadata": {
        "colab": {
          "base_uri": "https://localhost:8080/"
        },
        "id": "5vUOopLjwAU5",
        "outputId": "a5e81092-5220-44bd-d790-3d1dc11fbcc2"
      },
      "execution_count": null,
      "outputs": [
        {
          "output_type": "stream",
          "name": "stdout",
          "text": [
            "Best Max Iter: 10\n",
            "Best Standardization: False\n",
            "\n",
            "AND THEY GIVE OUT ACCURACY AS: 92.18192771084337\n"
          ]
        }
      ]
    },
    {
      "cell_type": "code",
      "source": [
        "print('Difference in accuracy after Hyper parameter tuning is',(bestaccuracy_svc-accuracy_svc)*100)"
      ],
      "metadata": {
        "colab": {
          "base_uri": "https://localhost:8080/"
        },
        "id": "0m3p5--Twy0a",
        "outputId": "573d0287-5398-45b7-e24b-4864c38d1541"
      },
      "execution_count": null,
      "outputs": [
        {
          "output_type": "stream",
          "name": "stdout",
          "text": [
            "Difference in accuracy after Hyper parameter tuning is 1.1036144578313367\n"
          ]
        }
      ]
    },
    {
      "cell_type": "code",
      "source": [
        "import pandas as pd\n",
        "import matplotlib.pyplot as plt\n",
        "tags = ['Logistic Regression','Random Forest','Gradient Boosted Trees','Linear Support Vector Classifier']\n",
        "\n",
        "a = [efficiency,accuracy_rf,accuracy_gbt,accuracy_svc]\n",
        "b = [bestaccuracy_log,accuracy_after_parameter,bestaccuracy_gbt, bestaccuracy_svc]\n",
        "colors = ['#3366FF', '#FF33F4']\n",
        "df_histo = pd.DataFrame({'Without hpt':a , 'with hpt':b}, index=tags)\n",
        "df_histo.plot.bar(rot=0, figsize=(12, 5),color=colors)\n",
        "plt.tight_layout()\n",
        "plt.xlabel('Different Algorithms used')\n",
        "plt.ylabel('Accuracy')\n",
        "plt.title('Which Model is the BEST?')\n",
        "plt.show()"
      ],
      "metadata": {
        "colab": {
          "base_uri": "https://localhost:8080/",
          "height": 504
        },
        "id": "0MYqOxapxEgQ",
        "outputId": "fcadf2fd-9144-4f84-a120-ac7377349bf0"
      },
      "execution_count": null,
      "outputs": [
        {
          "output_type": "display_data",
          "data": {
            "text/plain": [
              "<Figure size 1200x500 with 1 Axes>"
            ],
            "image/png": "[encoded data removed]"
          },
          "metadata": {}
        }
      ]
    },
    {
      "cell_type": "code",
      "source": [],
      "metadata": {
        "id": "5_nfm6RX2tpD"
      },
      "execution_count": null,
      "outputs": []
    }
  ],
  "metadata": {
    "colab": {
      "provenance": []
    },
    "kernelspec": {
      "display_name": "Python 3",
      "name": "python3"
    },
    "language_info": {
      "name": "python"
    }
  },
  "nbformat": 4,
  "nbformat_minor": 0
}