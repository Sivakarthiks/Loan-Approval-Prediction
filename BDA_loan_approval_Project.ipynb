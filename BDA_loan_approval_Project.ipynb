{
  "cells": [
    {
      "cell_type": "code",
      "execution_count": null,
      "metadata": {
        "colab": {
          "base_uri": "https://localhost:8080/"
        },
        "id": "Ys4yWM0kZ1U2",
        "outputId": "86f9d023-973a-45f1-a121-07690a7cfe65"
      },
      "outputs": [
        {
          "name": "stdout",
          "output_type": "stream",
          "text": [
            "Collecting pyspark\n",
            "  Downloading pyspark-3.5.0.tar.gz (316.9 MB)\n",
            "\u001b[2K     \u001b[90m━━━━━━━━━━━━━━━━━━━━━━━━━━━━━━━━━━━━━━━━\u001b[0m \u001b[32m316.9/316.9 MB\u001b[0m \u001b[31m2.6 MB/s\u001b[0m eta \u001b[36m0:00:00\u001b[0m\n",
            "\u001b[?25h  Preparing metadata (setup.py) ... \u001b[?25l\u001b[?25hdone\n",
            "Requirement already satisfied: py4j==0.10.9.7 in /usr/local/lib/python3.10/dist-packages (from pyspark) (0.10.9.7)\n",
            "Building wheels for collected packages: pyspark\n",
            "  Building wheel for pyspark (setup.py) ... \u001b[?25l\u001b[?25hdone\n",
            "  Created wheel for pyspark: filename=pyspark-3.5.0-py2.py3-none-any.whl size=317425344 sha256=5cba9c891728fac904f57c129ef537fcb42f0ff6aad84b784cb365b8c97cf75c\n",
            "  Stored in directory: /root/.cache/pip/wheels/41/4e/10/c2cf2467f71c678cfc8a6b9ac9241e5e44a01940da8fbb17fc\n",
            "Successfully built pyspark\n",
            "Installing collected packages: pyspark\n",
            "Successfully installed pyspark-3.5.0\n"
          ]
        }
      ],
      "source": [
        "pip install pyspark"
      ]
    },
    {
      "cell_type": "code",
      "execution_count": null,
      "metadata": {
        "id": "Dvt4U9v9aHR3"
      },
      "outputs": [],
      "source": [
        "from pyspark.sql import SparkSession\n",
        "spark = SparkSession.builder.appName(\"Loan approval\").getOrCreate()"
      ]
    },
    {
      "cell_type": "code",
      "execution_count": null,
      "metadata": {
        "id": "1YzvizRvaYQp"
      },
      "outputs": [],
      "source": [
        "sc = spark.sparkContext"
      ]
    },
    {
      "cell_type": "code",
      "execution_count": null,
      "metadata": {
        "id": "_Rm_u7dAnYmk"
      },
      "outputs": [],
      "source": [
        "filepath = '/content/loan_approval_dataset.csv'"
      ]
    },
    {
      "cell_type": "code",
      "execution_count": null,
      "metadata": {
        "id": "C2XUQev2ae-7"
      },
      "outputs": [],
      "source": [
        "data = spark.read.csv(filepath,header=True,inferSchema=True)"
      ]
    },
    {
      "cell_type": "code",
      "execution_count": null,
      "metadata": {
        "colab": {
          "base_uri": "https://localhost:8080/"
        },
        "id": "pkNTM96Ga4Ck",
        "outputId": "c2a04903-09f3-4224-b515-50e718960fb1"
      },
      "outputs": [
        {
          "name": "stdout",
          "output_type": "stream",
          "text": [
            "+-------+-----------------+-------------+--------------+-------------+------------+----------+------------+-------------------------+------------------------+--------------------+-----------------+------------+\n",
            "|loan_id| no_of_dependents|    education| self_employed| income_annum| loan_amount| loan_term| cibil_score| residential_assets_value| commercial_assets_value| luxury_assets_value| bank_asset_value| loan_status|\n",
            "+-------+-----------------+-------------+--------------+-------------+------------+----------+------------+-------------------------+------------------------+--------------------+-----------------+------------+\n",
            "|      1|                2|     Graduate|            No|      9600000|    29900000|        12|         778|                  2400000|                17600000|            22700000|          8000000|    Approved|\n",
            "|      2|                0| Not Graduate|           Yes|      4100000|    12200000|         8|         417|                  2700000|                 2200000|             8800000|          3300000|    Rejected|\n",
            "|      3|                3|     Graduate|            No|      9100000|    29700000|        20|         506|                  7100000|                 4500000|            33300000|         12800000|    Rejected|\n",
            "|      4|                3|     Graduate|            No|      8200000|    30700000|         8|         467|                 18200000|                 3300000|            23300000|          7900000|    Rejected|\n",
            "|      5|                5| Not Graduate|           Yes|      9800000|    24200000|        20|         382|                 12400000|                 8200000|            29400000|          5000000|    Rejected|\n",
            "|      6|                0|     Graduate|           Yes|      4800000|    13500000|        10|         319|                  6800000|                 8300000|            13700000|          5100000|    Rejected|\n",
            "|      7|                5|     Graduate|            No|      8700000|    33000000|         4|         678|                 22500000|                14800000|            29200000|          4300000|    Approved|\n",
            "|      8|                2|     Graduate|           Yes|      5700000|    15000000|        20|         382|                 13200000|                 5700000|            11800000|          6000000|    Rejected|\n",
            "|      9|                0|     Graduate|           Yes|       800000|     2200000|        20|         782|                  1300000|                  800000|             2800000|           600000|    Approved|\n",
            "|     10|                5| Not Graduate|            No|      1100000|     4300000|        10|         388|                  3200000|                 1400000|             3300000|          1600000|    Rejected|\n",
            "|     11|                4|     Graduate|           Yes|      2900000|    11200000|         2|         547|                  8100000|                 4700000|             9500000|          3100000|    Approved|\n",
            "|     12|                2| Not Graduate|           Yes|      6700000|    22700000|        18|         538|                 15300000|                 5800000|            20400000|          6400000|    Rejected|\n",
            "|     13|                3| Not Graduate|           Yes|      5000000|    11600000|        16|         311|                  6400000|                 9600000|            14600000|          4300000|    Rejected|\n",
            "|     14|                2|     Graduate|           Yes|      9100000|    31500000|        14|         679|                 10800000|                16600000|            20900000|          5000000|    Approved|\n",
            "|     15|                1| Not Graduate|            No|      1900000|     7400000|         6|         469|                  1900000|                 1200000|             5900000|          1900000|    Rejected|\n",
            "|     16|                5| Not Graduate|            No|      4700000|    10700000|        10|         794|                  5700000|                 3900000|            16400000|          4400000|    Approved|\n",
            "|     17|                2|     Graduate|           Yes|       500000|     1600000|         4|         663|                  1300000|                  100000|             1300000|           700000|    Approved|\n",
            "|     18|                4| Not Graduate|           Yes|      2900000|     9400000|        14|         780|                  2900000|                 2800000|             6700000|          4300000|    Approved|\n",
            "|     19|                2|     Graduate|            No|      2700000|    10300000|        10|         736|                  1000000|                       0|             6200000|          3300000|    Approved|\n",
            "|     20|                5|     Graduate|            No|      6300000|    14600000|        12|         652|                 10300000|                 3500000|            23500000|          5900000|    Approved|\n",
            "+-------+-----------------+-------------+--------------+-------------+------------+----------+------------+-------------------------+------------------------+--------------------+-----------------+------------+\n",
            "only showing top 20 rows\n",
            "\n"
          ]
        }
      ],
      "source": [
        "data.show()"
      ]
    },
    {
      "cell_type": "code",
      "execution_count": null,
      "metadata": {
        "colab": {
          "base_uri": "https://localhost:8080/"
        },
        "id": "igbInjejbEbH",
        "outputId": "19e09bb9-6ffa-4163-ab93-153c95076498"
      },
      "outputs": [
        {
          "name": "stdout",
          "output_type": "stream",
          "text": [
            "root\n",
            " |-- loan_id: integer (nullable = true)\n",
            " |--  no_of_dependents: integer (nullable = true)\n",
            " |--  education: string (nullable = true)\n",
            " |--  self_employed: string (nullable = true)\n",
            " |--  income_annum: integer (nullable = true)\n",
            " |--  loan_amount: integer (nullable = true)\n",
            " |--  loan_term: integer (nullable = true)\n",
            " |--  cibil_score: integer (nullable = true)\n",
            " |--  residential_assets_value: integer (nullable = true)\n",
            " |--  commercial_assets_value: integer (nullable = true)\n",
            " |--  luxury_assets_value: integer (nullable = true)\n",
            " |--  bank_asset_value: integer (nullable = true)\n",
            " |--  loan_status: string (nullable = true)\n",
            "\n"
          ]
        }
      ],
      "source": [
        "data.printSchema()"
      ]
    },
    {
      "cell_type": "code",
      "execution_count": null,
      "metadata": {
        "colab": {
          "base_uri": "https://localhost:8080/"
        },
        "id": "hXW_NkBwbHPu",
        "outputId": "2ee98d68-711d-4ea4-fa8e-0d6282b2589e"
      },
      "outputs": [
        {
          "data": {
            "text/plain": [
              "4269"
            ]
          },
          "execution_count": 19,
          "metadata": {},
          "output_type": "execute_result"
        }
      ],
      "source": [
        "data.count()"
      ]
    },
    {
      "cell_type": "code",
      "execution_count": null,
      "metadata": {
        "id": "W4tCStnPbVuB"
      },
      "outputs": [],
      "source": [
        "from pyspark.ml import Pipeline\n",
        "from pyspark.ml.feature import StringIndexer, VectorAssembler\n",
        "from pyspark.ml.classification import DecisionTreeClassifier\n",
        "from pyspark.sql import SparkSession\n",
        "from pyspark.sql.types import IntegerType\n",
        "import pyspark.sql.functions as F\n",
        "from pyspark.ml.evaluation import MulticlassClassificationEvaluator"
      ]
    },
    {
      "cell_type": "code",
      "execution_count": null,
      "metadata": {
        "id": "QobmHD3zcw9K"
      },
      "outputs": [],
      "source": [
        "indexer = StringIndexer(inputCol=' loan_status', outputCol='Approval_Status').fit(data)\n",
        "data = indexer.transform(data)"
      ]
    },
    {
      "cell_type": "code",
      "execution_count": null,
      "metadata": {
        "colab": {
          "base_uri": "https://localhost:8080/"
        },
        "id": "ebESzQ66sSdu",
        "outputId": "ef46b5e7-9cd4-4efb-c103-2dd6e12d1f65"
      },
      "outputs": [
        {
          "name": "stdout",
          "output_type": "stream",
          "text": [
            "+-------+-----------------+-------------+--------------+-------------+------------+----------+------------+-------------------------+------------------------+--------------------+-----------------+------------+---------------+\n",
            "|loan_id| no_of_dependents|    education| self_employed| income_annum| loan_amount| loan_term| cibil_score| residential_assets_value| commercial_assets_value| luxury_assets_value| bank_asset_value| loan_status|Approval_Status|\n",
            "+-------+-----------------+-------------+--------------+-------------+------------+----------+------------+-------------------------+------------------------+--------------------+-----------------+------------+---------------+\n",
            "|      1|                2|     Graduate|            No|      9600000|    29900000|        12|         778|                  2400000|                17600000|            22700000|          8000000|    Approved|            0.0|\n",
            "|      2|                0| Not Graduate|           Yes|      4100000|    12200000|         8|         417|                  2700000|                 2200000|             8800000|          3300000|    Rejected|            1.0|\n",
            "|      3|                3|     Graduate|            No|      9100000|    29700000|        20|         506|                  7100000|                 4500000|            33300000|         12800000|    Rejected|            1.0|\n",
            "|      4|                3|     Graduate|            No|      8200000|    30700000|         8|         467|                 18200000|                 3300000|            23300000|          7900000|    Rejected|            1.0|\n",
            "|      5|                5| Not Graduate|           Yes|      9800000|    24200000|        20|         382|                 12400000|                 8200000|            29400000|          5000000|    Rejected|            1.0|\n",
            "|      6|                0|     Graduate|           Yes|      4800000|    13500000|        10|         319|                  6800000|                 8300000|            13700000|          5100000|    Rejected|            1.0|\n",
            "|      7|                5|     Graduate|            No|      8700000|    33000000|         4|         678|                 22500000|                14800000|            29200000|          4300000|    Approved|            0.0|\n",
            "|      8|                2|     Graduate|           Yes|      5700000|    15000000|        20|         382|                 13200000|                 5700000|            11800000|          6000000|    Rejected|            1.0|\n",
            "|      9|                0|     Graduate|           Yes|       800000|     2200000|        20|         782|                  1300000|                  800000|             2800000|           600000|    Approved|            0.0|\n",
            "|     10|                5| Not Graduate|            No|      1100000|     4300000|        10|         388|                  3200000|                 1400000|             3300000|          1600000|    Rejected|            1.0|\n",
            "|     11|                4|     Graduate|           Yes|      2900000|    11200000|         2|         547|                  8100000|                 4700000|             9500000|          3100000|    Approved|            0.0|\n",
            "|     12|                2| Not Graduate|           Yes|      6700000|    22700000|        18|         538|                 15300000|                 5800000|            20400000|          6400000|    Rejected|            1.0|\n",
            "|     13|                3| Not Graduate|           Yes|      5000000|    11600000|        16|         311|                  6400000|                 9600000|            14600000|          4300000|    Rejected|            1.0|\n",
            "|     14|                2|     Graduate|           Yes|      9100000|    31500000|        14|         679|                 10800000|                16600000|            20900000|          5000000|    Approved|            0.0|\n",
            "|     15|                1| Not Graduate|            No|      1900000|     7400000|         6|         469|                  1900000|                 1200000|             5900000|          1900000|    Rejected|            1.0|\n",
            "|     16|                5| Not Graduate|            No|      4700000|    10700000|        10|         794|                  5700000|                 3900000|            16400000|          4400000|    Approved|            0.0|\n",
            "|     17|                2|     Graduate|           Yes|       500000|     1600000|         4|         663|                  1300000|                  100000|             1300000|           700000|    Approved|            0.0|\n",
            "|     18|                4| Not Graduate|           Yes|      2900000|     9400000|        14|         780|                  2900000|                 2800000|             6700000|          4300000|    Approved|            0.0|\n",
            "|     19|                2|     Graduate|            No|      2700000|    10300000|        10|         736|                  1000000|                       0|             6200000|          3300000|    Approved|            0.0|\n",
            "|     20|                5|     Graduate|            No|      6300000|    14600000|        12|         652|                 10300000|                 3500000|            23500000|          5900000|    Approved|            0.0|\n",
            "+-------+-----------------+-------------+--------------+-------------+------------+----------+------------+-------------------------+------------------------+--------------------+-----------------+------------+---------------+\n",
            "only showing top 20 rows\n",
            "\n"
          ]
        }
      ],
      "source": [
        "data.show()"
      ]
    },
    {
      "cell_type": "code",
      "execution_count": null,
      "metadata": {
        "colab": {
          "base_uri": "https://localhost:8080/"
        },
        "id": "VSJzx6V9m6S4",
        "outputId": "7ca555a3-d539-4621-9b6e-3003bf2e6a13"
      },
      "outputs": [
        {
          "name": "stdout",
          "output_type": "stream",
          "text": [
            "+-------+-----------------+-------------+------------+----------+------------+-------------------------+------------------------+--------------------+-----------------+---------------+\n",
            "|loan_id| no_of_dependents| income_annum| loan_amount| loan_term| cibil_score| residential_assets_value| commercial_assets_value| luxury_assets_value| bank_asset_value|Approval_Status|\n",
            "+-------+-----------------+-------------+------------+----------+------------+-------------------------+------------------------+--------------------+-----------------+---------------+\n",
            "|      1|                2|      9600000|    29900000|        12|         778|                  2400000|                17600000|            22700000|          8000000|            0.0|\n",
            "|      2|                0|      4100000|    12200000|         8|         417|                  2700000|                 2200000|             8800000|          3300000|            1.0|\n",
            "|      3|                3|      9100000|    29700000|        20|         506|                  7100000|                 4500000|            33300000|         12800000|            1.0|\n",
            "|      4|                3|      8200000|    30700000|         8|         467|                 18200000|                 3300000|            23300000|          7900000|            1.0|\n",
            "|      5|                5|      9800000|    24200000|        20|         382|                 12400000|                 8200000|            29400000|          5000000|            1.0|\n",
            "|      6|                0|      4800000|    13500000|        10|         319|                  6800000|                 8300000|            13700000|          5100000|            1.0|\n",
            "|      7|                5|      8700000|    33000000|         4|         678|                 22500000|                14800000|            29200000|          4300000|            0.0|\n",
            "|      8|                2|      5700000|    15000000|        20|         382|                 13200000|                 5700000|            11800000|          6000000|            1.0|\n",
            "|      9|                0|       800000|     2200000|        20|         782|                  1300000|                  800000|             2800000|           600000|            0.0|\n",
            "|     10|                5|      1100000|     4300000|        10|         388|                  3200000|                 1400000|             3300000|          1600000|            1.0|\n",
            "|     11|                4|      2900000|    11200000|         2|         547|                  8100000|                 4700000|             9500000|          3100000|            0.0|\n",
            "|     12|                2|      6700000|    22700000|        18|         538|                 15300000|                 5800000|            20400000|          6400000|            1.0|\n",
            "|     13|                3|      5000000|    11600000|        16|         311|                  6400000|                 9600000|            14600000|          4300000|            1.0|\n",
            "|     14|                2|      9100000|    31500000|        14|         679|                 10800000|                16600000|            20900000|          5000000|            0.0|\n",
            "|     15|                1|      1900000|     7400000|         6|         469|                  1900000|                 1200000|             5900000|          1900000|            1.0|\n",
            "|     16|                5|      4700000|    10700000|        10|         794|                  5700000|                 3900000|            16400000|          4400000|            0.0|\n",
            "|     17|                2|       500000|     1600000|         4|         663|                  1300000|                  100000|             1300000|           700000|            0.0|\n",
            "|     18|                4|      2900000|     9400000|        14|         780|                  2900000|                 2800000|             6700000|          4300000|            0.0|\n",
            "|     19|                2|      2700000|    10300000|        10|         736|                  1000000|                       0|             6200000|          3300000|            0.0|\n",
            "|     20|                5|      6300000|    14600000|        12|         652|                 10300000|                 3500000|            23500000|          5900000|            0.0|\n",
            "+-------+-----------------+-------------+------------+----------+------------+-------------------------+------------------------+--------------------+-----------------+---------------+\n",
            "only showing top 20 rows\n",
            "\n"
          ]
        }
      ],
      "source": [
        "data = data.drop(' self_employed')\n",
        "data = data.drop(' education')\n",
        "data = data.drop(' loan_status')\n",
        "data.show()"
      ]
    },
    {
      "cell_type": "code",
      "execution_count": null,
      "metadata": {
        "id": "ycxld9HQpfUY"
      },
      "outputs": [],
      "source": [
        "inputcolumns = [' no_of_dependents',' income_annum',' loan_amount',' loan_term',\n",
        "                ' cibil_score',' residential_assets_value',' commercial_assets_value',\n",
        "                ' luxury_assets_value',' bank_asset_value']"
      ]
    },
    {
      "cell_type": "code",
      "execution_count": null,
      "metadata": {
        "id": "hC-pi8zdq4XE"
      },
      "outputs": [],
      "source": [
        "for i in inputcolumns:\n",
        "  data = data.withColumn(i,data[i].cast(IntegerType()))"
      ]
    },
    {
      "cell_type": "code",
      "execution_count": null,
      "metadata": {
        "colab": {
          "base_uri": "https://localhost:8080/"
        },
        "id": "C2XKQCZjrgrm",
        "outputId": "783b4e9c-31b6-405f-844a-2570d7f3e435"
      },
      "outputs": [
        {
          "name": "stdout",
          "output_type": "stream",
          "text": [
            "root\n",
            " |-- loan_id: integer (nullable = true)\n",
            " |--  no_of_dependents: integer (nullable = true)\n",
            " |--  income_annum: integer (nullable = true)\n",
            " |--  loan_amount: integer (nullable = true)\n",
            " |--  loan_term: integer (nullable = true)\n",
            " |--  cibil_score: integer (nullable = true)\n",
            " |--  residential_assets_value: integer (nullable = true)\n",
            " |--  commercial_assets_value: integer (nullable = true)\n",
            " |--  luxury_assets_value: integer (nullable = true)\n",
            " |--  bank_asset_value: integer (nullable = true)\n",
            " |-- Approval_Status: double (nullable = false)\n",
            "\n"
          ]
        }
      ],
      "source": [
        "data.printSchema()"
      ]
    },
    {
      "cell_type": "code",
      "execution_count": null,
      "metadata": {
        "id": "H1K-jhf1NyV3"
      },
      "outputs": [],
      "source": [
        "data = data.na.fill(0.0)\n",
        "\n",
        "# Replace infinite values with a large finite value (e.g., 1e10)\n",
        "data = data.na.replace(float('inf'), 1.0e10)"
      ]
    },
    {
      "cell_type": "code",
      "execution_count": null,
      "metadata": {
        "id": "LZhTgymivEpW"
      },
      "outputs": [],
      "source": [
        "d = VectorAssembler(inputCols = inputcolumns, outputCol = 'features')\n",
        "data = d.transform(data)"
      ]
    },
    {
      "cell_type": "code",
      "execution_count": null,
      "metadata": {
        "colab": {
          "base_uri": "https://localhost:8080/"
        },
        "id": "51wPkoEYvTh9",
        "outputId": "b52e8bdb-1840-4064-a594-d323908ff1de"
      },
      "outputs": [
        {
          "name": "stdout",
          "output_type": "stream",
          "text": [
            "+-------+-----------------+-------------+------------+----------+------------+-------------------------+------------------------+--------------------+-----------------+---------------+--------------------+\n",
            "|loan_id| no_of_dependents| income_annum| loan_amount| loan_term| cibil_score| residential_assets_value| commercial_assets_value| luxury_assets_value| bank_asset_value|Approval_Status|            features|\n",
            "+-------+-----------------+-------------+------------+----------+------------+-------------------------+------------------------+--------------------+-----------------+---------------+--------------------+\n",
            "|      1|                2|      9600000|    29900000|        12|         778|                  2400000|                17600000|            22700000|          8000000|            0.0|[2.0,9600000.0,2....|\n",
            "|      2|                0|      4100000|    12200000|         8|         417|                  2700000|                 2200000|             8800000|          3300000|            1.0|[0.0,4100000.0,1....|\n",
            "|      3|                3|      9100000|    29700000|        20|         506|                  7100000|                 4500000|            33300000|         12800000|            1.0|[3.0,9100000.0,2....|\n",
            "|      4|                3|      8200000|    30700000|         8|         467|                 18200000|                 3300000|            23300000|          7900000|            1.0|[3.0,8200000.0,3....|\n",
            "|      5|                5|      9800000|    24200000|        20|         382|                 12400000|                 8200000|            29400000|          5000000|            1.0|[5.0,9800000.0,2....|\n",
            "|      6|                0|      4800000|    13500000|        10|         319|                  6800000|                 8300000|            13700000|          5100000|            1.0|[0.0,4800000.0,1....|\n",
            "|      7|                5|      8700000|    33000000|         4|         678|                 22500000|                14800000|            29200000|          4300000|            0.0|[5.0,8700000.0,3....|\n",
            "|      8|                2|      5700000|    15000000|        20|         382|                 13200000|                 5700000|            11800000|          6000000|            1.0|[2.0,5700000.0,1....|\n",
            "|      9|                0|       800000|     2200000|        20|         782|                  1300000|                  800000|             2800000|           600000|            0.0|[0.0,800000.0,220...|\n",
            "|     10|                5|      1100000|     4300000|        10|         388|                  3200000|                 1400000|             3300000|          1600000|            1.0|[5.0,1100000.0,43...|\n",
            "|     11|                4|      2900000|    11200000|         2|         547|                  8100000|                 4700000|             9500000|          3100000|            0.0|[4.0,2900000.0,1....|\n",
            "|     12|                2|      6700000|    22700000|        18|         538|                 15300000|                 5800000|            20400000|          6400000|            1.0|[2.0,6700000.0,2....|\n",
            "|     13|                3|      5000000|    11600000|        16|         311|                  6400000|                 9600000|            14600000|          4300000|            1.0|[3.0,5000000.0,1....|\n",
            "|     14|                2|      9100000|    31500000|        14|         679|                 10800000|                16600000|            20900000|          5000000|            0.0|[2.0,9100000.0,3....|\n",
            "|     15|                1|      1900000|     7400000|         6|         469|                  1900000|                 1200000|             5900000|          1900000|            1.0|[1.0,1900000.0,74...|\n",
            "|     16|                5|      4700000|    10700000|        10|         794|                  5700000|                 3900000|            16400000|          4400000|            0.0|[5.0,4700000.0,1....|\n",
            "|     17|                2|       500000|     1600000|         4|         663|                  1300000|                  100000|             1300000|           700000|            0.0|[2.0,500000.0,160...|\n",
            "|     18|                4|      2900000|     9400000|        14|         780|                  2900000|                 2800000|             6700000|          4300000|            0.0|[4.0,2900000.0,94...|\n",
            "|     19|                2|      2700000|    10300000|        10|         736|                  1000000|                       0|             6200000|          3300000|            0.0|[2.0,2700000.0,1....|\n",
            "|     20|                5|      6300000|    14600000|        12|         652|                 10300000|                 3500000|            23500000|          5900000|            0.0|[5.0,6300000.0,1....|\n",
            "+-------+-----------------+-------------+------------+----------+------------+-------------------------+------------------------+--------------------+-----------------+---------------+--------------------+\n",
            "only showing top 20 rows\n",
            "\n"
          ]
        }
      ],
      "source": [
        "data.show()"
      ]
    },
    {
      "cell_type": "code",
      "execution_count": null,
      "metadata": {
        "id": "kV-Cw57QvtPU"
      },
      "outputs": [],
      "source": [
        "train, test = data.randomSplit([0.8,0.2], seed=11)"
      ]
    },
    {
      "cell_type": "code",
      "execution_count": null,
      "metadata": {
        "colab": {
          "base_uri": "https://localhost:8080/"
        },
        "id": "jNEjT3MqwNyd",
        "outputId": "826a6bd4-e7db-43c0-c6ef-7e89c80fe1eb"
      },
      "outputs": [
        {
          "data": {
            "text/plain": [
              "3437"
            ]
          },
          "execution_count": 39,
          "metadata": {},
          "output_type": "execute_result"
        }
      ],
      "source": [
        "train.count()"
      ]
    },
    {
      "cell_type": "code",
      "execution_count": null,
      "metadata": {
        "colab": {
          "base_uri": "https://localhost:8080/"
        },
        "id": "EM8Yzkf1wOQA",
        "outputId": "a960786f-73d5-4e58-e992-7a82099d4a9e"
      },
      "outputs": [
        {
          "data": {
            "text/plain": [
              "832"
            ]
          },
          "execution_count": 40,
          "metadata": {},
          "output_type": "execute_result"
        }
      ],
      "source": [
        "test.count()"
      ]
    },
    {
      "cell_type": "markdown",
      "metadata": {
        "id": "cAdUFz2gAGLm"
      },
      "source": [
        "***Logistic Regression***"
      ]
    },
    {
      "cell_type": "code",
      "execution_count": null,
      "metadata": {
        "id": "5Ziq_0k5z88R"
      },
      "outputs": [],
      "source": [
        "from pyspark.ml.classification import LogisticRegression\n",
        "\n",
        "log = LogisticRegression(featuresCol='features',\n",
        "                             labelCol='Approval_Status')"
      ]
    },
    {
      "cell_type": "code",
      "execution_count": null,
      "metadata": {
        "id": "Pu7nHlapz274"
      },
      "outputs": [],
      "source": [
        "pipe = Pipeline(stages = [log])"
      ]
    },
    {
      "cell_type": "code",
      "execution_count": null,
      "metadata": {
        "id": "Wcbd3gtJz2_c"
      },
      "outputs": [],
      "source": [
        "fit_model = pipe.fit(train)"
      ]
    },
    {
      "cell_type": "code",
      "execution_count": null,
      "metadata": {
        "id": "p1Ch-l5YwQu1"
      },
      "outputs": [],
      "source": [
        "results = fit_model.transform(test)"
      ]
    },
    {
      "cell_type": "code",
      "execution_count": null,
      "metadata": {
        "id": "8tpQ1XT4yyPz"
      },
      "outputs": [],
      "source": [
        "from pyspark.ml.evaluation import BinaryClassificationEvaluator\n",
        "res = BinaryClassificationEvaluator(rawPredictionCol='prediction',labelCol='Approval_Status')\n",
        "efficiency = res.evaluate(results)"
      ]
    },
    {
      "cell_type": "code",
      "execution_count": null,
      "metadata": {
        "colab": {
          "base_uri": "https://localhost:8080/"
        },
        "id": "GkwalhyHzbnl",
        "outputId": "e5cba8ee-5e17-42ce-ef24-a88a49e7d314"
      },
      "outputs": [
        {
          "name": "stdout",
          "output_type": "stream",
          "text": [
            "Accuracy of the model is:  91.45854145854146 %\n"
          ]
        }
      ],
      "source": [
        "print(\"Accuracy of the model is: \",efficiency*100,\"%\")"
      ]
    },
    {
      "cell_type": "code",
      "execution_count": null,
      "metadata": {
        "colab": {
          "base_uri": "https://localhost:8080/"
        },
        "id": "Z1_vv_PSz0Y-",
        "outputId": "6831ca0f-e6f1-42fa-d7e2-b16f89fb94eb"
      },
      "outputs": [
        {
          "name": "stdout",
          "output_type": "stream",
          "text": [
            "+-------+-----------------+-------------+------------+----------+------------+-------------------------+------------------------+--------------------+-----------------+---------------+--------------------+--------------------+--------------------+----------+\n",
            "|loan_id| no_of_dependents| income_annum| loan_amount| loan_term| cibil_score| residential_assets_value| commercial_assets_value| luxury_assets_value| bank_asset_value|Approval_Status|            features|       rawPrediction|         probability|prediction|\n",
            "+-------+-----------------+-------------+------------+----------+------------+-------------------------+------------------------+--------------------+-----------------+---------------+--------------------+--------------------+--------------------+----------+\n",
            "|      6|                0|      4800000|    13500000|        10|         319|                  6800000|                 8300000|            13700000|          5100000|            1.0|[0.0,4800000.0,1....|[-5.1985686643290...|[0.00549411408268...|       1.0|\n",
            "|      7|                5|      8700000|    33000000|         4|         678|                 22500000|                14800000|            29200000|          4300000|            0.0|[5.0,8700000.0,3....|[5.62237901680803...|[0.99639700027294...|       0.0|\n",
            "|     13|                3|      5000000|    11600000|        16|         311|                  6400000|                 9600000|            14600000|          4300000|            1.0|[3.0,5000000.0,1....|[-6.7187347332975...|[0.00120660811080...|       1.0|\n",
            "|     14|                2|      9100000|    31500000|        14|         679|                 10800000|                16600000|            20900000|          5000000|            0.0|[2.0,9100000.0,3....|[3.53569847596836...|[0.97168660941727...|       0.0|\n",
            "|     15|                1|      1900000|     7400000|         6|         469|                  1900000|                 1200000|             5900000|          1900000|            1.0|[1.0,1900000.0,74...|[-0.5158791458191...|[0.37381633100000...|       1.0|\n",
            "|     17|                2|       500000|     1600000|         4|         663|                  1300000|                  100000|             1300000|           700000|            0.0|[2.0,500000.0,160...|[4.46065320392967...|[0.98857717543130...|       0.0|\n",
            "|     18|                4|      2900000|     9400000|        14|         780|                  2900000|                 2800000|             6700000|          4300000|            0.0|[4.0,2900000.0,94...|[5.92122972395768...|[0.99732527319877...|       0.0|\n",
            "|     22|                4|      5800000|    14000000|        16|         530|                  3800000|                11300000|            22200000|          5400000|            1.0|[4.0,5800000.0,1....|[-0.9762266718030...|[0.27364113572183...|       1.0|\n",
            "|     28|                4|      2400000|     5600000|         4|         662|                  4500000|                 4200000|             5400000|          2500000|            0.0|[4.0,2400000.0,56...|[4.09225012066433...|[0.98357275091043...|       0.0|\n",
            "|     30|                3|      9000000|    31500000|        10|         850|                 21800000|                12400000|            33700000|          8000000|            0.0|[3.0,9000000.0,3....|[9.10967206795105...|[0.99988942125350...|       0.0|\n",
            "|     33|                1|       800000|     1600000|        10|         436|                   700000|                  200000|             2200000|          1000000|            1.0|[1.0,800000.0,160...|[-2.2593880236178...|[0.09454274383195...|       1.0|\n",
            "|     38|                5|      8000000|    27200000|         6|         348|                  6400000|                  300000|            16700000|          7100000|            1.0|[5.0,8000000.0,2....|[-3.9900620066507...|[0.01816258524903...|       1.0|\n",
            "|     40|                3|      1500000|     5100000|         6|         352|                   100000|                  200000|             5600000|           900000|            1.0|[3.0,1500000.0,51...|[-3.6821836170965...|[0.02455008217878...|       1.0|\n",
            "|     48|                1|      4900000|    19100000|        14|         677|                  5400000|                 9100000|            17700000|          6500000|            0.0|[1.0,4900000.0,1....|[4.13523082827111...|[0.98425296468362...|       0.0|\n",
            "|     52|                2|      8700000|    24700000|        10|         435|                  6800000|                 3500000|            21800000|         11300000|            1.0|[2.0,8700000.0,2....|[-2.5797026637049...|[0.07045620159177...|       1.0|\n",
            "|     68|                0|      2700000|    10100000|        20|         693|                   200000|                 1700000|             5900000|          1400000|            1.0|[0.0,2700000.0,1....|[3.02104689009994...|[0.95351594912920...|       0.0|\n",
            "|     72|                5|      5300000|    18600000|         4|         386|                  2700000|                 9700000|            11900000|          4200000|            0.0|[5.0,5300000.0,1....|[-2.5305208148427...|[0.07374606310155...|       1.0|\n",
            "|     76|                2|      1900000|     6500000|        18|         671|                   600000|                 2500000|             4800000|          1100000|            0.0|[2.0,1900000.0,65...|[2.63072934770470...|[0.93281327401196...|       0.0|\n",
            "|     79|                2|      8500000|    29400000|        12|         576|                 17600000|                 5600000|            25200000|          9000000|            0.0|[2.0,8500000.0,2....|[1.51933549793838...|[0.82044060844377...|       0.0|\n",
            "|     89|                4|      2000000|     8000000|         6|         837|                  5100000|                 2600000|             3900000|          2900000|            0.0|[4.0,2000000.0,80...|[8.70238732223024...|[0.99983383902274...|       0.0|\n",
            "+-------+-----------------+-------------+------------+----------+------------+-------------------------+------------------------+--------------------+-----------------+---------------+--------------------+--------------------+--------------------+----------+\n",
            "only showing top 20 rows\n",
            "\n"
          ]
        }
      ],
      "source": [
        "results.show()"
      ]
    },
    {
      "cell_type": "markdown",
      "metadata": {
        "id": "QmS2sHu2Fgqt"
      },
      "source": [
        "***random Forest***"
      ]
    },
    {
      "cell_type": "code",
      "execution_count": null,
      "metadata": {
        "id": "EVU8ZYkgMaG8"
      },
      "outputs": [],
      "source": [
        "from pyspark.ml.classification import RandomForestClassifier"
      ]
    },
    {
      "cell_type": "code",
      "execution_count": null,
      "metadata": {
        "id": "dilFgwmUAXzg"
      },
      "outputs": [],
      "source": [
        "rf = RandomForestClassifier(labelCol=\"Approval_Status\", featuresCol=\"features\", numTrees=100)"
      ]
    },
    {
      "cell_type": "code",
      "execution_count": null,
      "metadata": {
        "id": "xLSA23hzAcyE"
      },
      "outputs": [],
      "source": [
        "model = rf.fit(train)"
      ]
    },
    {
      "cell_type": "code",
      "execution_count": null,
      "metadata": {
        "id": "DbSNXU3kA6sg"
      },
      "outputs": [],
      "source": [
        "predictions = model.transform(test)"
      ]
    },
    {
      "cell_type": "code",
      "execution_count": null,
      "metadata": {
        "colab": {
          "base_uri": "https://localhost:8080/"
        },
        "id": "eO3WG5bjA_co",
        "outputId": "feb1d2d5-ef87-41de-a42a-64024449f370"
      },
      "outputs": [
        {
          "name": "stdout",
          "output_type": "stream",
          "text": [
            "Accuracy: 95.5211455211455\n"
          ]
        }
      ],
      "source": [
        "evaluator = BinaryClassificationEvaluator(labelCol=\"Approval_Status\", rawPredictionCol=\"prediction\")\n",
        "accuracy = evaluator.evaluate(predictions)\n",
        "print(f\"Accuracy: {accuracy*100}\")"
      ]
    },
    {
      "cell_type": "code",
      "execution_count": null,
      "metadata": {
        "colab": {
          "base_uri": "https://localhost:8080/"
        },
        "id": "Mo8n-I2cEloE",
        "outputId": "159e133b-5ed9-42c2-da48-83e307074015"
      },
      "outputs": [
        {
          "name": "stdout",
          "output_type": "stream",
          "text": [
            "Feature Importances:\n",
            " no_of_dependents: 0.004427422251825267\n",
            "\n",
            " income_annum: 0.006839974195924856\n",
            "\n",
            " loan_amount: 0.009514650251533485\n",
            "\n",
            " loan_term: 0.058980913805201186\n",
            "\n",
            " cibil_score: 0.8947365981530596\n",
            "\n",
            " residential_assets_value: 0.0050742411518231376\n",
            "\n",
            " commercial_assets_value: 0.007304527111556599\n",
            "\n",
            " luxury_assets_value: 0.007224478356102984\n",
            "\n",
            " bank_asset_value: 0.005897194722972775\n",
            "\n"
          ]
        }
      ],
      "source": [
        "feature_importances = model.featureImportances\n",
        "print(\"Feature Importances:\")\n",
        "for i in range(len(inputcolumns)):\n",
        "    print(f\"{inputcolumns[i]}: {feature_importances[i]}\")\n",
        "    print()"
      ]
    },
    {
      "cell_type": "code",
      "execution_count": null,
      "metadata": {
        "id": "TFfBTOibQR79"
      },
      "outputs": [],
      "source": [
        "from pyspark.ml.tuning import ParamGridBuilder, CrossValidator\n",
        "paramGrid = (ParamGridBuilder()\n",
        "             .addGrid(rf.numTrees, [10, 50, 100])\n",
        "             .addGrid(rf.maxDepth, [5, 10, 15])\n",
        "             .build())"
      ]
    },
    {
      "cell_type": "code",
      "execution_count": null,
      "metadata": {
        "id": "c7qlMgOcE_rI"
      },
      "outputs": [],
      "source": [
        "evaluator_after_parameter = BinaryClassificationEvaluator(labelCol=\"Approval_Status\", rawPredictionCol=\"prediction\")"
      ]
    },
    {
      "cell_type": "code",
      "execution_count": null,
      "metadata": {
        "id": "baGtMcgyPgLb"
      },
      "outputs": [],
      "source": [
        "cv = CrossValidator(estimator=rf, estimatorParamMaps=paramGrid, evaluator=evaluator_after_parameter, numFolds=5)\n"
      ]
    },
    {
      "cell_type": "code",
      "execution_count": null,
      "metadata": {
        "id": "umZKg3aUQavB"
      },
      "outputs": [],
      "source": [
        "cvModel = cv.fit(train)"
      ]
    },
    {
      "cell_type": "code",
      "execution_count": null,
      "metadata": {
        "id": "gcECpdInQmZd"
      },
      "outputs": [],
      "source": [
        "best_rf_model = cvModel.bestModel"
      ]
    },
    {
      "cell_type": "code",
      "execution_count": null,
      "metadata": {
        "id": "z_D2nzhnQ_MD"
      },
      "outputs": [],
      "source": [
        "test_results = best_rf_model.transform(test)\n",
        "accuracy_after_parameter = evaluator_after_parameter.evaluate(test_results)\n"
      ]
    },
    {
      "cell_type": "code",
      "execution_count": null,
      "metadata": {
        "colab": {
          "base_uri": "https://localhost:8080/"
        },
        "id": "d2aGK7lKTNAu",
        "outputId": "9d610c6d-e8d1-45e8-e284-1cc8f448c71b"
      },
      "outputs": [
        {
          "name": "stdout",
          "output_type": "stream",
          "text": [
            "Best Hyperparameters:\n",
            "Number of Trees: 100\n",
            "Max Depth: 15\n",
            "\n",
            "AND THEY GIVE OUT ACCURACY AS: 95.39627039627038\n"
          ]
        }
      ],
      "source": [
        "best_num_trees = best_rf_model.getNumTrees\n",
        "best_max_depth = best_rf_model.getMaxDepth()\n",
        "\n",
        "print(\"Best Hyperparameters:\")\n",
        "print(f\"Number of Trees: {best_num_trees}\")\n",
        "print(f\"Max Depth: {best_max_depth}\")\n",
        "print()\n",
        "print(f\"AND THEY GIVE OUT ACCURACY AS: {accuracy_after_parameter*100}\")"
      ]
    },
    {
      "cell_type": "code",
      "execution_count": null,
      "metadata": {
        "colab": {
          "base_uri": "https://localhost:8080/"
        },
        "id": "bTBd2pqnTPqL",
        "outputId": "80f6e220-e842-4d7d-f174-03e4be50e7b7"
      },
      "outputs": [
        {
          "name": "stdout",
          "output_type": "stream",
          "text": [
            "Difference in ACCURACY after HyperParameter Tuning is -0.12487512487511232\n"
          ]
        }
      ],
      "source": [
        "print('Difference in ACCURACY after HyperParameter Tuning is',(accuracy_after_parameter-accuracy)*100)"
      ]
    },
    {
      "cell_type": "markdown",
      "metadata": {
        "id": "c3F86mhtYKO2"
      },
      "source": [
        "***K NEAREST NEIGHBOR***"
      ]
    },
    {
      "cell_type": "code",
      "execution_count": null,
      "metadata": {
        "id": "kJdvrRQiaRu7"
      },
      "outputs": [],
      "source": [
        "from pyspark.ml.classification import GBTClassifier"
      ]
    },
    {
      "cell_type": "code",
      "execution_count": null,
      "metadata": {
        "id": "H--xnyuMaSX5"
      },
      "outputs": [],
      "source": [
        "gbt = GBTClassifier(labelCol=\"Approval_Status\", featuresCol=\"features\", maxIter=10)\n"
      ]
    },
    {
      "cell_type": "code",
      "execution_count": null,
      "metadata": {
        "id": "2pfqTy8mcDMp"
      },
      "outputs": [],
      "source": [
        "pipeline = Pipeline(stages=[gbt])"
      ]
    },
    {
      "cell_type": "code",
      "execution_count": null,
      "metadata": {
        "id": "urdyRdJJcIAx"
      },
      "outputs": [],
      "source": [
        "model = pipeline.fit(train)"
      ]
    },
    {
      "cell_type": "code",
      "execution_count": null,
      "metadata": {
        "id": "pvzutBu3cKlO"
      },
      "outputs": [],
      "source": [
        "predictions_gbt = model.transform(test)\n"
      ]
    },
    {
      "cell_type": "code",
      "execution_count": null,
      "metadata": {
        "id": "599d_85HcOqe"
      },
      "outputs": [],
      "source": [
        "evaluator = BinaryClassificationEvaluator(labelCol=\"Approval_Status\", rawPredictionCol=\"prediction\")\n",
        "accuracy_gbt = evaluator.evaluate(predictions_gbt)"
      ]
    },
    {
      "cell_type": "code",
      "execution_count": null,
      "metadata": {
        "colab": {
          "base_uri": "https://localhost:8080/"
        },
        "id": "kWR14fA3cWQZ",
        "outputId": "415f2fd4-c383-4711-93ce-af61cd86ceb3"
      },
      "outputs": [
        {
          "data": {
            "text/plain": [
              "0.9444721944721944"
            ]
          },
          "execution_count": 78,
          "metadata": {},
          "output_type": "execute_result"
        }
      ],
      "source": [
        "accuracy_gbt"
      ]
    },
    {
      "cell_type": "code",
      "execution_count": null,
      "metadata": {
        "id": "lT3vpe6ncXhD"
      },
      "outputs": [],
      "source": [
        "paramGrid_gbt = (ParamGridBuilder()\n",
        "    .addGrid(gbt.maxIter, [10, 20, 30])\n",
        "    .addGrid(gbt.maxDepth, [3, 5, 7])\n",
        "    .addGrid(gbt.stepSize, [0.1, 0.01])\n",
        "    .build())"
      ]
    },
    {
      "cell_type": "code",
      "execution_count": null,
      "metadata": {
        "id": "Q2cziwkWg4h0"
      },
      "outputs": [],
      "source": [
        "crossval = CrossValidator(estimator=pipeline,\n",
        "                          estimatorParamMaps=paramGrid_gbt,\n",
        "                          evaluator=evaluator,\n",
        "                          numFolds=5)"
      ]
    },
    {
      "cell_type": "code",
      "execution_count": null,
      "metadata": {
        "colab": {
          "background_save": true
        },
        "id": "wQDoWn92hEne"
      },
      "outputs": [],
      "source": [
        "cvModel_gbt = crossval.fit(train)"
      ]
    },
    {
      "cell_type": "code",
      "execution_count": null,
      "metadata": {
        "id": "T2dKr98yhIsM"
      },
      "outputs": [],
      "source": [
        " bestModel_gbt = cvModel_gbt.bestModel\n",
        "bestMaxIter = bestModel_gbt.stages[1].getMaxIter()\n",
        "bestMaxDepth = bestModel_gbt.stages[1].getMaxDepth()\n",
        "bestStepSize = bestModel_gbt.stages[1].getStepSize()"
      ]
    },
    {
      "cell_type": "code",
      "execution_count": null,
      "metadata": {
        "id": "C5P4Ak9ohPVu"
      },
      "outputs": [],
      "source": [
        "predictions_gbt = bestModel_gbt.transform(test)"
      ]
    },
    {
      "cell_type": "code",
      "execution_count": null,
      "metadata": {
        "id": "F_-o_8XYhV7B"
      },
      "outputs": [],
      "source": [
        "bestaccuracy_gbt = evaluator.evaluate(predictions_gbt)\n",
        "print(f\"Best Max Iter: {bestMaxIter}\")\n",
        "print(f\"Best Max Depth: {bestMaxDepth}\")\n",
        "print(f\"Best Step Size: {bestStepSize}\")\n",
        "print()\n",
        "print(f\"AND THEY GIVE OUT ACCURACY AS: {bestaccuracy_gbt*100}\")"
      ]
    },
    {
      "cell_type": "code",
      "execution_count": null,
      "metadata": {
        "id": "w7J-obT8htxx"
      },
      "outputs": [],
      "source": []
    }
  ],
  "metadata": {
    "colab": {
      "provenance": []
    },
    "kernelspec": {
      "display_name": "Python 3",
      "name": "python3"
    },
    "language_info": {
      "name": "python"
    }
  },
  "nbformat": 4,
  "nbformat_minor": 0
}